{
  "nbformat": 4,
  "nbformat_minor": 0,
  "metadata": {
    "colab": {
      "provenance": [],
      "include_colab_link": true
    },
    "kernelspec": {
      "name": "python3",
      "display_name": "Python 3"
    },
    "language_info": {
      "name": "python"
    }
  },
  "cells": [
    {
      "cell_type": "markdown",
      "metadata": {
        "id": "view-in-github",
        "colab_type": "text"
      },
      "source": [
        "<a href=\"https://colab.research.google.com/github/rishabhk1501/Data-Analytics-Tasks/blob/main/task_23.ipynb\" target=\"_parent\"><img src=\"https://colab.research.google.com/assets/colab-badge.svg\" alt=\"Open In Colab\"/></a>"
      ]
    },
    {
      "cell_type": "code",
      "execution_count": null,
      "metadata": {
        "id": "t9m5KXgliN7a"
      },
      "outputs": [],
      "source": [
        "import numpy as np\n",
        "import pandas as pd\n",
        "\n",
        "import matplotlib.pyplot as plt\n",
        "\n",
        "plt.style.use('default')"
      ]
    },
    {
      "cell_type": "markdown",
      "source": [
        "## `Problem 1 to 5`:\n",
        "\n",
        "Dataset link: https://tinyurl.com/2fe6vz4u\n",
        "\n",
        "**Add a label to every axis and add a proper title for the charts. Also add proper labels if there are multiple representations.** Then, you can customize it as your wish.\n",
        "\n",
        "### **`Problem-1:`** Draw a line plot of which, the x-axis is the \"Year\" and the y-axis is sum of \"PM2.5\" of two countries Iran and China."
      ],
      "metadata": {
        "id": "7oa-klRDiT-p"
      }
    },
    {
      "cell_type": "markdown",
      "source": [
        "### **`Problem-2:`** Draw a histogram of the  column \"PM10\" of which the y-axis represents the probability (see the documentation how to draw the probability)."
      ],
      "metadata": {
        "id": "sM5oN3VkiY3y"
      }
    },
    {
      "cell_type": "markdown",
      "source": [
        "### **`Problem-3:`** Draw a scatter plot where x-axis represents \"PM2.5\" and y-axis represents \"PM10\" for two countries Poland and Chile."
      ],
      "metadata": {
        "id": "2BLv8ixLiehx"
      }
    },
    {
      "cell_type": "markdown",
      "source": [
        "### **`Problem-4:`** Draw a pie chart of top 5 most frequent countries."
      ],
      "metadata": {
        "id": "liyyLRglijPk"
      }
    },
    {
      "cell_type": "markdown",
      "source": [
        "### **`Problem-5:`** Draw a bar chart which represents the counts of top 5 most frequent countries.\n",
        "\n"
      ],
      "metadata": {
        "id": "6l7yu0gVin1U"
      }
    },
    {
      "cell_type": "markdown",
      "source": [
        "##`Problem 6-10`\n",
        "Data Set - https://docs.google.com/spreadsheets/d/e/2PACX-1vTJh6X4_mqixWsfK9mgkllGQkKYW9Wj9kOIMGY2uYsWeS8n5np87DO-SDGQWJ1HXEnxiOVFVzYFYEcR/pub?gid=558678488&single=true&output=csv\n",
        "\n",
        "This is a Sales data of any company in a Year.\n",
        "\n",
        "\n",
        "###`Problem-6`\n",
        "Show a line plot of Total Profit for each month with below styling.\n",
        "* Dotted Line\n",
        "* Line Color Blue\n",
        "* Show Legend at top left\n",
        "* Circle Marker"
      ],
      "metadata": {
        "id": "CinxvrZwisbd"
      }
    },
    {
      "cell_type": "markdown",
      "source": [
        "###`Problem-7`\n",
        "Show sales of each product in march month as pie chart.\n",
        "* Show Percentage value\n",
        "* Give Title \"Sales in March\"\n",
        "* Explode ToothPaste with shadow"
      ],
      "metadata": {
        "id": "KWlj7XhJiz8f"
      }
    },
    {
      "cell_type": "markdown",
      "source": [
        "###`Problem-8` Multiline Plot of all products sales.\n",
        "* Give different styes for each products\n",
        "* Add legend at top right"
      ],
      "metadata": {
        "id": "3e0fKkCpi433"
      }
    },
    {
      "cell_type": "markdown",
      "source": [
        "###`Problem-9` Show Quarter wise Sales data for all products as multi Bar chart.\n"
      ],
      "metadata": {
        "id": "SN-is2KYi9Ws"
      }
    },
    {
      "cell_type": "markdown",
      "source": [
        "###`Problem-10` Plot Stacked Bar chart quarter wise for each product."
      ],
      "metadata": {
        "id": "UMUYyefEjBx4"
      }
    }
  ]
}