{
  "nbformat": 4,
  "nbformat_minor": 0,
  "metadata": {
    "colab": {
      "provenance": [],
      "include_colab_link": true
    },
    "kernelspec": {
      "name": "python3",
      "display_name": "Python 3"
    },
    "language_info": {
      "name": "python"
    }
  },
  "cells": [
    {
      "cell_type": "markdown",
      "metadata": {
        "id": "view-in-github",
        "colab_type": "text"
      },
      "source": [
        "<a href=\"https://colab.research.google.com/github/rishabhk1501/Data-Analytics-Tasks/blob/main/session_1_tasks_soln.ipynb\" target=\"_parent\"><img src=\"https://colab.research.google.com/assets/colab-badge.svg\" alt=\"Open In Colab\"/></a>"
      ]
    },
    {
      "cell_type": "markdown",
      "source": [
        "# Task : Session 1\n",
        "Solve these questions own your own and try to test yourself what you have learned in the session.\n",
        "\n",
        "Happy Learning!"
      ],
      "metadata": {
        "id": "A05OG15VqOPF"
      }
    },
    {
      "cell_type": "markdown",
      "source": [
        "### Q1 :- Print the given strings as per stated format.\n",
        "\n",
        "**Given strings**:\n",
        "```\n",
        "\"Data\" \"Science\" \"Mentorship\" \"Program\"\n",
        "\"By\" \"CampusX\"\n",
        "```\n",
        "**Output**:\n",
        "```\n",
        "Data-Science-Mentorship-Program-started-By-CampusX\n",
        "```\n",
        "\n",
        "Concept- [Seperator and End]"
      ],
      "metadata": {
        "id": "2doIXf8bqe9_"
      }
    },
    {
      "cell_type": "code",
      "source": [
        "# Write your code here\n",
        "\n",
        "print(\"Data\", \"Science\", \"Mentorship\", \"Program\", \"started\",\n",
        "\"By\", \"CampusX\", sep = \"-\")"
      ],
      "metadata": {
        "id": "-em6d3KErDtp",
        "colab": {
          "base_uri": "https://localhost:8080/"
        },
        "outputId": "6fb2913f-19f4-4d90-d836-988167448578"
      },
      "execution_count": null,
      "outputs": [
        {
          "output_type": "stream",
          "name": "stdout",
          "text": [
            "Data-Science-Mentorship-Program-started-By-CampusX\n"
          ]
        }
      ]
    },
    {
      "cell_type": "code",
      "source": [
        "print.__doc__"
      ],
      "metadata": {
        "colab": {
          "base_uri": "https://localhost:8080/",
          "height": 70
        },
        "id": "jCDjYjltkERU",
        "outputId": "8aea187c-1503-4f84-a305-132261b4e105"
      },
      "execution_count": null,
      "outputs": [
        {
          "output_type": "execute_result",
          "data": {
            "text/plain": [
              "\"print(value, ..., sep=' ', end='\\\\n', file=sys.stdout, flush=False)\\n\\nPrints the values to a stream, or to sys.stdout by default.\\nOptional keyword arguments:\\nfile:  a file-like object (stream); defaults to the current sys.stdout.\\nsep:   string inserted between values, default a space.\\nend:   string appended after the last value, default a newline.\\nflush: whether to forcibly flush the stream.\""
            ],
            "application/vnd.google.colaboratory.intrinsic+json": {
              "type": "string"
            }
          },
          "metadata": {},
          "execution_count": 2
        }
      ]
    },
    {
      "cell_type": "code",
      "source": [
        "print()"
      ],
      "metadata": {
        "id": "mVS-bXwHl1Za"
      },
      "execution_count": null,
      "outputs": []
    },
    {
      "cell_type": "code",
      "source": [
        "# write program if user feeds the sentence as input to convert to a desired separated format\n",
        "\n",
        "string = input(\"Enter the string: \")\n",
        "\n",
        "print(','.join(string.split()))"
      ],
      "metadata": {
        "colab": {
          "base_uri": "https://localhost:8080/"
        },
        "id": "8EzUFvKumwx1",
        "outputId": "dad259d9-8b79-4365-ca94-d395202d8285"
      },
      "execution_count": null,
      "outputs": [
        {
          "output_type": "stream",
          "name": "stdout",
          "text": [
            "Enter the string: hello how are you\n",
            "hello,how,are,you\n"
          ]
        }
      ]
    },
    {
      "cell_type": "markdown",
      "source": [
        "### Q2:- Write a program that will convert celsius value to fahrenheit."
      ],
      "metadata": {
        "id": "1KUpN7ZTrC3_"
      }
    },
    {
      "cell_type": "code",
      "source": [
        "# Write your code here\n",
        "\n",
        "C = int(input('Temperature in Celcius: '))\n",
        "\n",
        "F = ((9*C)/5) + 32\n",
        "\n",
        "print('Temperature in Fahrenheit: {0}'.format(F))"
      ],
      "metadata": {
        "id": "yxKYhYQiqWfj",
        "colab": {
          "base_uri": "https://localhost:8080/"
        },
        "outputId": "878084d5-4d28-4f61-bf88-03a449ea5f32"
      },
      "execution_count": null,
      "outputs": [
        {
          "output_type": "stream",
          "name": "stdout",
          "text": [
            "Temperature in Celcius: 38\n",
            "Temperature in Fahrenheit: 100.4\n"
          ]
        }
      ]
    },
    {
      "cell_type": "markdown",
      "source": [
        "### Q3:- Take 2 numbers as input from the user.Write a program to swap the numbers without using any special python syntax."
      ],
      "metadata": {
        "id": "RLrOBBJurLB2"
      }
    },
    {
      "cell_type": "code",
      "source": [
        "# Write your code here\n",
        "\n",
        "a = int(input('Enter first number: '))\n",
        "b = int(input('Enter second number: '))\n",
        "\n",
        "a_new = b\n",
        "b_new = a\n",
        "print('The numbers {} and {} after swapping are {} and {}'.format(a,b,a_new,b_new))"
      ],
      "metadata": {
        "id": "yPn7if0TrJ4F",
        "colab": {
          "base_uri": "https://localhost:8080/"
        },
        "outputId": "9e4e2e01-a15d-4a7e-910d-dad98d4968df"
      },
      "execution_count": null,
      "outputs": [
        {
          "output_type": "stream",
          "name": "stdout",
          "text": [
            "Enter first number: 3\n",
            "Enter second number: 7\n",
            "The numbers 3 and 7 after swapping are 7 and 3\n"
          ]
        }
      ]
    },
    {
      "cell_type": "markdown",
      "source": [
        "### Q4:- Write a program to find the euclidean distance between two coordinates.Take both the coordinates from the user as input."
      ],
      "metadata": {
        "id": "waLCP1bjr7ML"
      }
    },
    {
      "cell_type": "code",
      "source": [
        "# Write your code here\n",
        "\n",
        "x1 = int(input('Enter X coordinate for first point: '))\n",
        "y1 = int(input('Enter Y coordinate for first point: '))\n",
        "\n",
        "x2 = int(input('Enter X coordinate for second point: '))\n",
        "y2 = int(input('Enter Y coordinate for second point: '))\n",
        "\n",
        "euc_dist = (((x2-x1)**2) + ((y2-y1)**2))**0.5\n",
        "\n",
        "print('euclidean distance between two coordinates is {}'.format(euc_dist))"
      ],
      "metadata": {
        "id": "Pl1Sv-xnrxnH",
        "colab": {
          "base_uri": "https://localhost:8080/"
        },
        "outputId": "efe888e8-3914-4f58-aecc-a47beab1b76f"
      },
      "execution_count": null,
      "outputs": [
        {
          "output_type": "stream",
          "name": "stdout",
          "text": [
            "Enter X coordinate for first point: 3\n",
            "Enter Y coordinate for first point: 8\n",
            "Enter X coordinate for second point: 71\n",
            "Enter Y coordinate for second point: 89\n",
            "euclidean distance between two coordinates is 105.75916035975324\n"
          ]
        }
      ]
    },
    {
      "cell_type": "markdown",
      "source": [
        "### Q5:- Write a program to find the simple interest when the value of principle,rate of interest and time period is provided by the user.\n"
      ],
      "metadata": {
        "id": "VLrhg-FRsHjR"
      }
    },
    {
      "cell_type": "code",
      "source": [
        "# Write your code here\n",
        "\n",
        "p = float(input('Enter the principle: '))\n",
        "r = float(input('Enter the rate of interest: '))\n",
        "t = float(input('Enter the time period: '))\n",
        "\n",
        "si = p*r*t\n",
        "\n",
        "print('The value of simple interest is {}'.format(si))"
      ],
      "metadata": {
        "id": "s40DlReZsTmY",
        "colab": {
          "base_uri": "https://localhost:8080/"
        },
        "outputId": "ec7a101c-2f45-4269-933d-f2a2220d2ce4"
      },
      "execution_count": null,
      "outputs": [
        {
          "output_type": "stream",
          "name": "stdout",
          "text": [
            "Enter the principle: 1000\n",
            "Enter the rate of interest: 0.1\n",
            "Enter the time period: 5\n",
            "The value of simple interest is 500.0\n"
          ]
        }
      ]
    },
    {
      "cell_type": "markdown",
      "source": [
        "### Q6:- Write a program that will tell the number of dogs and chicken are there when the user will provide the value of total heads and legs.\n",
        "\n",
        "For example:\n",
        "Input:\n",
        "heads -> 4\n",
        "legs -> 12\n",
        "<br>\n",
        "Output:\n",
        "dogs -> 2\n",
        "chicken -> 2\n",
        "\n",
        "\n",
        "\n"
      ],
      "metadata": {
        "id": "LMy0BTUktYKa"
      }
    },
    {
      "cell_type": "code",
      "source": [
        "# Write your code here\n",
        "\n",
        "# d = b- a/2\n",
        "# c = a/2 -b\n",
        "\n",
        "h = int(input('Enter total number of heads: '))\n",
        "l = int(input('Enter total number of legs: '))\n",
        "\n",
        "d = int((l/2) - h)\n",
        "c = int((2*h) - (l/2))\n",
        "\n",
        "print('Total number of dogs are {}'.format(d), 'Total number of chickens are {}'.format(c), sep = '\\n')"
      ],
      "metadata": {
        "id": "XSBvJoA4tXaG",
        "colab": {
          "base_uri": "https://localhost:8080/"
        },
        "outputId": "f8c9ab88-923c-4794-830f-3fb0e8d0f487"
      },
      "execution_count": null,
      "outputs": [
        {
          "output_type": "stream",
          "name": "stdout",
          "text": [
            "Enter total number of heads: 8\n",
            "Enter total number of legs: 20\n",
            "Total number of dogs are 2\n",
            "Total number of chickens are 6\n"
          ]
        }
      ]
    },
    {
      "cell_type": "markdown",
      "source": [
        "### Q7:- Write a program to find the sum of squares of first n natural numbers where n will be provided by the user."
      ],
      "metadata": {
        "id": "gJ7C5kZYt4BP"
      }
    },
    {
      "cell_type": "code",
      "source": [
        "# Write your code here\n",
        "\n",
        "n = int(input('Enter value of n: '))\n",
        "sum_of_squares = n * (n + 1) * (2 * n + 1) // 6\n",
        "\n",
        "\n",
        "print('Sum of squares of {} natural numbers is {}'.format(n, sum_of_squares))"
      ],
      "metadata": {
        "id": "_tHsmEHzt2nX",
        "colab": {
          "base_uri": "https://localhost:8080/"
        },
        "outputId": "dd78d40b-0882-467c-e486-c5212e53feee"
      },
      "execution_count": null,
      "outputs": [
        {
          "output_type": "stream",
          "name": "stdout",
          "text": [
            "Enter value of n: 6\n",
            "Sum of squares of 6 natural numbers is 91\n"
          ]
        }
      ]
    },
    {
      "cell_type": "markdown",
      "source": [
        "### Q8:- Given the first 2 terms of an Arithmetic Series.Find the Nth term of the series. Assume all inputs are provided by the user."
      ],
      "metadata": {
        "id": "FHrMM7g-yG1h"
      }
    },
    {
      "cell_type": "code",
      "source": [
        "# Write your code here\n",
        "\n",
        "a1 = int(input('Enter the first term: '))\n",
        "a2 = int(input('Enter the second term: '))\n",
        "n = int(input('Enter total terms in series: '))\n",
        "\n",
        "nth_term = a1 + ((n-1)*(a2-a1))\n",
        "\n",
        "print('nth term of the arithmetic series is {}'.format(nth_term))"
      ],
      "metadata": {
        "id": "go4_kmZmyVSx",
        "colab": {
          "base_uri": "https://localhost:8080/"
        },
        "outputId": "5db908f0-804f-49ad-8ecf-d73017f2f2ff"
      },
      "execution_count": null,
      "outputs": [
        {
          "output_type": "stream",
          "name": "stdout",
          "text": [
            "Enter the first term: 25\n",
            "Enter the second term: 40\n",
            "Enter total terms in series: 10\n",
            "nth term of the arithmetic series is 160\n"
          ]
        }
      ]
    },
    {
      "cell_type": "markdown",
      "source": [
        "### Q9:- Given 2 fractions, find the sum of those 2 fractions.Take the numerator and denominator values of the fractions from the user."
      ],
      "metadata": {
        "id": "QgyRX_es1oum"
      }
    },
    {
      "cell_type": "code",
      "source": [
        "# Write your code here\n",
        "\n",
        "a = int(input('Enter numerator of first fraction: '))\n",
        "b = int(input('Enter denominator of first fraction: '))\n",
        "c = int(input('Enter numerator of second fraction: '))\n",
        "d = int(input('Enter denominator of second fraction: '))\n",
        "\n",
        "sum_of_fraction = ((a*d) + (b*c))/(b*d)\n",
        "print('The sum of two fractions is {}'.format(sum_of_fraction))"
      ],
      "metadata": {
        "id": "X05xqFS1yW16",
        "colab": {
          "base_uri": "https://localhost:8080/"
        },
        "outputId": "f725203d-4d5f-4769-ac4b-0ce8d8f710cb"
      },
      "execution_count": null,
      "outputs": [
        {
          "output_type": "stream",
          "name": "stdout",
          "text": [
            "Enter numerator of first fraction: 4\n",
            "Enter denominator of first fraction: 7\n",
            "Enter numerator of second fraction: 3\n",
            "Enter denominator of second fraction: 7\n",
            "\n",
            "The sum of two fractions is 1.0\n"
          ]
        }
      ]
    },
    {
      "cell_type": "markdown",
      "source": [
        "### Q10:- Given the height, width and breadth of a milk tank, you have to find out how many glasses of milk can be obtained? Assume all the inputs are provided by the user.\n",
        "\n",
        "\n",
        "\n",
        "Input:<br>\n",
        "Dimensions of the milk tank<br>\n",
        "H = 20cm, L = 20cm, B = 20cm\n",
        "<br><br>\n",
        "Dimensions of the glass<br>\n",
        "h = 3cm, r = 1cm"
      ],
      "metadata": {
        "id": "eaql38ln13u7"
      }
    },
    {
      "cell_type": "code",
      "source": [
        "# Write your code here\n",
        "\n",
        "H = int(input('Enter the height of tank: '))\n",
        "L = int(input('Enter the width of tank: '))\n",
        "B = int(input('Enter the breadth of tank: '))\n",
        "\n",
        "volume_of_tank = H * L * B\n",
        "\n",
        "h = int(input('Enter the height of glass: '))\n",
        "r = int(input('Enter the radius of glass: '))\n",
        "\n",
        "volume_of_glass = (22/7) * (r**2) * h\n",
        "\n",
        "total_glasses = (volume_of_tank) // (volume_of_glass)\n",
        "\n",
        "print('The total number of glasses are {}'.format(total_glasses))"
      ],
      "metadata": {
        "id": "FePZqno74eWv",
        "colab": {
          "base_uri": "https://localhost:8080/"
        },
        "outputId": "5b7902a1-160c-43b7-f1d7-d33182a372be"
      },
      "execution_count": null,
      "outputs": [
        {
          "output_type": "stream",
          "name": "stdout",
          "text": [
            "Enter the height of tank: 20\n",
            "Enter the width of tank: 20\n",
            "Enter the breadth of tank: 20\n",
            "Enter the height of glass: 3\n",
            "Enter the radius of glass: 1\n",
            "The total number of glasses are 848.0\n"
          ]
        }
      ]
    },
    {
      "cell_type": "code",
      "source": [],
      "metadata": {
        "id": "znsZj7gyVWKk"
      },
      "execution_count": null,
      "outputs": []
    }
  ]
}