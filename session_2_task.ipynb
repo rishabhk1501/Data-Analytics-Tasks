{
  "nbformat": 4,
  "nbformat_minor": 0,
  "metadata": {
    "colab": {
      "provenance": [],
      "include_colab_link": true
    },
    "kernelspec": {
      "name": "python3",
      "display_name": "Python 3"
    },
    "language_info": {
      "name": "python"
    }
  },
  "cells": [
    {
      "cell_type": "markdown",
      "metadata": {
        "id": "view-in-github",
        "colab_type": "text"
      },
      "source": [
        "<a href=\"https://colab.research.google.com/github/rishabhk1501/Data-Analytics-Tasks/blob/main/session_2_task.ipynb\" target=\"_parent\"><img src=\"https://colab.research.google.com/assets/colab-badge.svg\" alt=\"Open In Colab\"/></a>"
      ]
    },
    {
      "cell_type": "markdown",
      "source": [
        "### `Problem 1`: Write a program that will give you in hand monthly salary after deduction on CTC - HRA(10%), DA(5%), PF(3%) and taxes deduction as below:\n",
        "\n",
        "> Salary(Lakhs) : Tax(%)\n",
        "\n",
        "*   Below 5 : 0%\n",
        "*   5-10 : 10%\n",
        "*   10-20 : 20%\n",
        "*   aboove 20 : 30%"
      ],
      "metadata": {
        "id": "w6RlOAXV2PWh"
      }
    },
    {
      "cell_type": "code",
      "source": [
        "# Write code here\n",
        "\n",
        "salary = int(input())\n",
        "\n",
        "if salary <= 5:\n",
        "  deduction_perc = 0.18\n",
        "elif salary > 5 and salary <= 10:\n",
        "  deduction_perc = 0.28\n",
        "elif salary > 10 and salary <= 20:\n",
        "  deduction_perc = 0.38\n",
        "else:\n",
        "  deduction_perc = 0.48\n",
        "\n",
        "inhand_monthly_salary = (100000*salary*(1-deduction_perc))/12\n",
        "\n",
        "print(inhand_monthly_salary)"
      ],
      "metadata": {
        "id": "7tMHvKYO2etI",
        "colab": {
          "base_uri": "https://localhost:8080/"
        },
        "outputId": "61c0e0ba-450d-49c9-ec70-f04d927b4908"
      },
      "execution_count": null,
      "outputs": [
        {
          "output_type": "stream",
          "name": "stdout",
          "text": [
            "5\n",
            "34166.66666666667\n"
          ]
        }
      ]
    },
    {
      "cell_type": "markdown",
      "source": [
        "### `Problem 2`: Write a program that take a user input of three angles and will find out whether it can form a triangle or not."
      ],
      "metadata": {
        "id": "tYzCGqwl2hfN"
      }
    },
    {
      "cell_type": "code",
      "source": [
        "# Write code here\n",
        "\n",
        "A = int(input())\n",
        "B = int(input())\n",
        "C = int(input())\n",
        "\n",
        "if (A>0 and B>0 and C>0 and A+B+C==180):\n",
        "  print('Triangle will be formed')\n",
        "else:\n",
        "  ('Triangle will not be formed')"
      ],
      "metadata": {
        "id": "FYEqln-I2kxV",
        "colab": {
          "base_uri": "https://localhost:8080/"
        },
        "outputId": "58383b3d-c841-42f2-886d-ccc09331d5ed"
      },
      "execution_count": null,
      "outputs": [
        {
          "output_type": "stream",
          "name": "stdout",
          "text": [
            "20\n",
            "30\n",
            "130\n",
            "Triangle will be formed\n"
          ]
        }
      ]
    },
    {
      "cell_type": "markdown",
      "source": [
        "### `Problem 3`: Write a program that will take user input of cost price and selling price and determines whether its a loss or a profit."
      ],
      "metadata": {
        "id": "5vEpPh8C2pE4"
      }
    },
    {
      "cell_type": "code",
      "source": [
        "# Write code here\n",
        "\n"
      ],
      "metadata": {
        "id": "jDwBXlkO2sfl"
      },
      "execution_count": null,
      "outputs": []
    },
    {
      "cell_type": "markdown",
      "source": [
        "### `Problem 4`: Write a menu-driven program -\n",
        "1. cm to ft\n",
        "2. km to miles\n",
        "3. USD to INR\n",
        "4. exit"
      ],
      "metadata": {
        "id": "J_FG_cJW2ugT"
      }
    },
    {
      "cell_type": "code",
      "source": [
        "# Write code here"
      ],
      "metadata": {
        "id": "yBHhaCGQ2zpD"
      },
      "execution_count": null,
      "outputs": []
    },
    {
      "cell_type": "markdown",
      "source": [
        "### `Problem 5` - Exercise 12: Display Fibonacci series up to 10 terms.\n",
        "\n",
        "*Note: The Fibonacci Sequence is a series of numbers. The next number is found by adding up the two numbers before it. The first two numbers are 0 and 1. For example, 0, 1, 1, 2, 3, 5, 8, 13, 21. The next number in this series above is 13+21 = 34*"
      ],
      "metadata": {
        "id": "LJJ30_Yw27ZU"
      }
    },
    {
      "cell_type": "code",
      "source": [
        "# Write code here\n",
        "n = int(input())\n",
        "series = [0,1]\n",
        "for i in range(2,n):\n",
        "  Sum = sum(series)\n",
        "  series.append(sum(series[-2:]))\n",
        "print(series)"
      ],
      "metadata": {
        "id": "ae_1rpe52-5R",
        "colab": {
          "base_uri": "https://localhost:8080/"
        },
        "outputId": "dd793753-97d5-44ab-b330-75958daa23d6"
      },
      "execution_count": null,
      "outputs": [
        {
          "output_type": "stream",
          "name": "stdout",
          "text": [
            "10\n",
            "[0, 1, 1, 2, 3, 5, 8, 13, 21, 34]\n"
          ]
        }
      ]
    },
    {
      "cell_type": "code",
      "source": [
        "numbers = [1,2,3,4,5,1,4,5]\n",
        "\n",
        "Sum = sum(numbers)\n",
        "print(Sum)"
      ],
      "metadata": {
        "id": "axBQvs-qWOTs",
        "outputId": "605ff7fa-cf43-45e5-f0be-1c13070390f4",
        "colab": {
          "base_uri": "https://localhost:8080/"
        }
      },
      "execution_count": null,
      "outputs": [
        {
          "output_type": "stream",
          "name": "stdout",
          "text": [
            "25\n"
          ]
        }
      ]
    },
    {
      "cell_type": "markdown",
      "source": [
        "### `Problem 6` - Find the factorial of a given number.\n",
        "\n",
        "Write a program to use the loop to find the factorial of a given number.\n",
        "\n",
        "The factorial (symbol: `!`) means to multiply all whole numbers from the chosen number down to 1.\n",
        "\n",
        "For example: calculate the factorial of 5\n",
        "\n",
        "```bash\n",
        "5! = 5 × 4 × 3 × 2 × 1 = 120\n",
        "```\n",
        "\n",
        "Output:\n",
        "\n",
        "```bash\n",
        "120\n",
        "```"
      ],
      "metadata": {
        "id": "pk_I_S4m3PT5"
      }
    },
    {
      "cell_type": "code",
      "source": [
        "# Write code here\n",
        "n = int(input())\n",
        "factorial = 1\n",
        "for i in range(1,n+1):\n",
        "  factorial = factorial*i\n",
        "print(factorial)\n"
      ],
      "metadata": {
        "id": "lzXxHegx3Rkc",
        "colab": {
          "base_uri": "https://localhost:8080/"
        },
        "outputId": "f3761a2f-ddf2-4cae-965f-d43c3b7d8e9f"
      },
      "execution_count": null,
      "outputs": [
        {
          "output_type": "stream",
          "name": "stdout",
          "text": [
            "9\n",
            "362880\n"
          ]
        }
      ]
    },
    {
      "cell_type": "markdown",
      "source": [
        "### `Problem 7` - Reverse a given integer number.\n",
        "\n",
        "Example:\n",
        "\n",
        "`Input:`\n",
        "\n",
        "```bash\n",
        "76542\n",
        "```\n",
        "\n",
        "`Output:`\n",
        "\n",
        "```bash\n",
        "24567\n",
        "```"
      ],
      "metadata": {
        "id": "-17IOi-g3UpU"
      }
    },
    {
      "cell_type": "code",
      "source": [
        "# Write code here"
      ],
      "metadata": {
        "id": "wJwLpKCr3aVA"
      },
      "execution_count": null,
      "outputs": []
    },
    {
      "cell_type": "markdown",
      "source": [
        "### `Problem 8`: Take a user input as integer N. Find out the sum from 1 to N. If any number if divisible by 5, then skip that number. And if the sum is greater than 300, don't need to calculate the sum further more. Print the final result. And don't use for loop to solve this problem.\n",
        "\n",
        "**Example 1:**\n",
        "\n",
        "`Input:`\n",
        "\n",
        "```bash\n",
        "30\n",
        "```\n",
        "\n",
        "`Output:`\n",
        "\n",
        "```bash\n",
        "276\n",
        "```"
      ],
      "metadata": {
        "id": "-t8PJQaY3sHf"
      }
    },
    {
      "cell_type": "code",
      "source": [
        "# Write code here\n",
        "\n",
        "N = int(input(\"Enter a number: \"))\n",
        "\n",
        "sum = 0\n",
        "i = 1\n",
        "\n",
        "while i <= N:\n",
        "  if i % 5 == 0:\n",
        "    i += 1\n",
        "    continue\n",
        "\n",
        "  sum += i\n",
        "\n",
        "  if sum > 300:\n",
        "    break\n",
        "\n",
        "\n",
        "  i += 1\n",
        "print(f\"Final sum from 1 to {N} is {sum}\")"
      ],
      "metadata": {
        "id": "GZB6mGMP3ujT",
        "colab": {
          "base_uri": "https://localhost:8080/"
        },
        "outputId": "78525467-183c-41ea-93f7-825c4324d702"
      },
      "execution_count": null,
      "outputs": [
        {
          "output_type": "stream",
          "name": "stdout",
          "text": [
            "Enter a number: 30\n",
            "Final sum from 1 to 30 is 303\n"
          ]
        }
      ]
    },
    {
      "cell_type": "markdown",
      "source": [
        "### `Problem 9`: Write a program that keeps on accepting a number from the user until the user enters Zero. Display the sum and average of all the numbers."
      ],
      "metadata": {
        "id": "Q7ggImeA3xm4"
      }
    },
    {
      "cell_type": "code",
      "source": [
        "# Write code here\n",
        "\n",
        "n = int(input())\n",
        "Sum = 0\n",
        "Count = 1\n",
        "while n != 0:\n",
        "  Sum = Sum + n\n",
        "  n = int(input())\n",
        "  Count = Count + 1\n",
        "print('sum:',Sum)\n",
        "print('avg:',(Sum/(Count-1)))"
      ],
      "metadata": {
        "id": "t_YDSZDe4Kdo",
        "colab": {
          "base_uri": "https://localhost:8080/"
        },
        "outputId": "b44e1f5d-a8a3-4728-bdc0-65479cbfbae3"
      },
      "execution_count": null,
      "outputs": [
        {
          "output_type": "stream",
          "name": "stdout",
          "text": [
            "7\n",
            "3\n",
            "8\n",
            "3\n",
            "5\n",
            "0\n",
            "sum: 26\n",
            "avg: 5.2\n"
          ]
        }
      ]
    },
    {
      "cell_type": "markdown",
      "source": [
        "###`Problem 9`: Write a program which will find all such numbers which are divisible by 7 but are not a multiple of 5, between 2000 and 3200 (both included). The numbers obtained should be printed in a comma-separated sequence on a single line."
      ],
      "metadata": {
        "id": "6EhvEMvm4R7s"
      }
    },
    {
      "cell_type": "code",
      "source": [
        "# Write code here\n",
        "values = []\n",
        "for i in range(2000,3201):\n",
        "  if (i%7 != 0 and i%5 == 0):\n",
        "    continue\n",
        "  values.append(str(i))\n",
        "print(\",\".join(values))"
      ],
      "metadata": {
        "id": "d6RgP1B34T6c",
        "outputId": "7f095e0f-a67e-4032-eb4f-826b66f63d40",
        "colab": {
          "base_uri": "https://localhost:8080/"
        }
      },
      "execution_count": 50,
      "outputs": [
        {
          "output_type": "stream",
          "name": "stdout",
          "text": [
            "2001,2002,2003,2004,2006,2007,2008,2009,2011,2012,2013,2014,2016,2017,2018,2019,2021,2022,2023,2024,2026,2027,2028,2029,2030,2031,2032,2033,2034,2036,2037,2038,2039,2041,2042,2043,2044,2046,2047,2048,2049,2051,2052,2053,2054,2056,2057,2058,2059,2061,2062,2063,2064,2065,2066,2067,2068,2069,2071,2072,2073,2074,2076,2077,2078,2079,2081,2082,2083,2084,2086,2087,2088,2089,2091,2092,2093,2094,2096,2097,2098,2099,2100,2101,2102,2103,2104,2106,2107,2108,2109,2111,2112,2113,2114,2116,2117,2118,2119,2121,2122,2123,2124,2126,2127,2128,2129,2131,2132,2133,2134,2135,2136,2137,2138,2139,2141,2142,2143,2144,2146,2147,2148,2149,2151,2152,2153,2154,2156,2157,2158,2159,2161,2162,2163,2164,2166,2167,2168,2169,2170,2171,2172,2173,2174,2176,2177,2178,2179,2181,2182,2183,2184,2186,2187,2188,2189,2191,2192,2193,2194,2196,2197,2198,2199,2201,2202,2203,2204,2205,2206,2207,2208,2209,2211,2212,2213,2214,2216,2217,2218,2219,2221,2222,2223,2224,2226,2227,2228,2229,2231,2232,2233,2234,2236,2237,2238,2239,2240,2241,2242,2243,2244,2246,2247,2248,2249,2251,2252,2253,2254,2256,2257,2258,2259,2261,2262,2263,2264,2266,2267,2268,2269,2271,2272,2273,2274,2275,2276,2277,2278,2279,2281,2282,2283,2284,2286,2287,2288,2289,2291,2292,2293,2294,2296,2297,2298,2299,2301,2302,2303,2304,2306,2307,2308,2309,2310,2311,2312,2313,2314,2316,2317,2318,2319,2321,2322,2323,2324,2326,2327,2328,2329,2331,2332,2333,2334,2336,2337,2338,2339,2341,2342,2343,2344,2345,2346,2347,2348,2349,2351,2352,2353,2354,2356,2357,2358,2359,2361,2362,2363,2364,2366,2367,2368,2369,2371,2372,2373,2374,2376,2377,2378,2379,2380,2381,2382,2383,2384,2386,2387,2388,2389,2391,2392,2393,2394,2396,2397,2398,2399,2401,2402,2403,2404,2406,2407,2408,2409,2411,2412,2413,2414,2415,2416,2417,2418,2419,2421,2422,2423,2424,2426,2427,2428,2429,2431,2432,2433,2434,2436,2437,2438,2439,2441,2442,2443,2444,2446,2447,2448,2449,2450,2451,2452,2453,2454,2456,2457,2458,2459,2461,2462,2463,2464,2466,2467,2468,2469,2471,2472,2473,2474,2476,2477,2478,2479,2481,2482,2483,2484,2485,2486,2487,2488,2489,2491,2492,2493,2494,2496,2497,2498,2499,2501,2502,2503,2504,2506,2507,2508,2509,2511,2512,2513,2514,2516,2517,2518,2519,2520,2521,2522,2523,2524,2526,2527,2528,2529,2531,2532,2533,2534,2536,2537,2538,2539,2541,2542,2543,2544,2546,2547,2548,2549,2551,2552,2553,2554,2555,2556,2557,2558,2559,2561,2562,2563,2564,2566,2567,2568,2569,2571,2572,2573,2574,2576,2577,2578,2579,2581,2582,2583,2584,2586,2587,2588,2589,2590,2591,2592,2593,2594,2596,2597,2598,2599,2601,2602,2603,2604,2606,2607,2608,2609,2611,2612,2613,2614,2616,2617,2618,2619,2621,2622,2623,2624,2625,2626,2627,2628,2629,2631,2632,2633,2634,2636,2637,2638,2639,2641,2642,2643,2644,2646,2647,2648,2649,2651,2652,2653,2654,2656,2657,2658,2659,2660,2661,2662,2663,2664,2666,2667,2668,2669,2671,2672,2673,2674,2676,2677,2678,2679,2681,2682,2683,2684,2686,2687,2688,2689,2691,2692,2693,2694,2695,2696,2697,2698,2699,2701,2702,2703,2704,2706,2707,2708,2709,2711,2712,2713,2714,2716,2717,2718,2719,2721,2722,2723,2724,2726,2727,2728,2729,2730,2731,2732,2733,2734,2736,2737,2738,2739,2741,2742,2743,2744,2746,2747,2748,2749,2751,2752,2753,2754,2756,2757,2758,2759,2761,2762,2763,2764,2765,2766,2767,2768,2769,2771,2772,2773,2774,2776,2777,2778,2779,2781,2782,2783,2784,2786,2787,2788,2789,2791,2792,2793,2794,2796,2797,2798,2799,2800,2801,2802,2803,2804,2806,2807,2808,2809,2811,2812,2813,2814,2816,2817,2818,2819,2821,2822,2823,2824,2826,2827,2828,2829,2831,2832,2833,2834,2835,2836,2837,2838,2839,2841,2842,2843,2844,2846,2847,2848,2849,2851,2852,2853,2854,2856,2857,2858,2859,2861,2862,2863,2864,2866,2867,2868,2869,2870,2871,2872,2873,2874,2876,2877,2878,2879,2881,2882,2883,2884,2886,2887,2888,2889,2891,2892,2893,2894,2896,2897,2898,2899,2901,2902,2903,2904,2905,2906,2907,2908,2909,2911,2912,2913,2914,2916,2917,2918,2919,2921,2922,2923,2924,2926,2927,2928,2929,2931,2932,2933,2934,2936,2937,2938,2939,2940,2941,2942,2943,2944,2946,2947,2948,2949,2951,2952,2953,2954,2956,2957,2958,2959,2961,2962,2963,2964,2966,2967,2968,2969,2971,2972,2973,2974,2975,2976,2977,2978,2979,2981,2982,2983,2984,2986,2987,2988,2989,2991,2992,2993,2994,2996,2997,2998,2999,3001,3002,3003,3004,3006,3007,3008,3009,3010,3011,3012,3013,3014,3016,3017,3018,3019,3021,3022,3023,3024,3026,3027,3028,3029,3031,3032,3033,3034,3036,3037,3038,3039,3041,3042,3043,3044,3045,3046,3047,3048,3049,3051,3052,3053,3054,3056,3057,3058,3059,3061,3062,3063,3064,3066,3067,3068,3069,3071,3072,3073,3074,3076,3077,3078,3079,3080,3081,3082,3083,3084,3086,3087,3088,3089,3091,3092,3093,3094,3096,3097,3098,3099,3101,3102,3103,3104,3106,3107,3108,3109,3111,3112,3113,3114,3115,3116,3117,3118,3119,3121,3122,3123,3124,3126,3127,3128,3129,3131,3132,3133,3134,3136,3137,3138,3139,3141,3142,3143,3144,3146,3147,3148,3149,3150,3151,3152,3153,3154,3156,3157,3158,3159,3161,3162,3163,3164,3166,3167,3168,3169,3171,3172,3173,3174,3176,3177,3178,3179,3181,3182,3183,3184,3185,3186,3187,3188,3189,3191,3192,3193,3194,3196,3197,3198,3199\n"
          ]
        }
      ]
    },
    {
      "cell_type": "markdown",
      "source": [
        "###`Problem 10`: Write a program, which will find all such numbers between 1000 and 3000 (both included) such that each digit of the number is an even number. The numbers obtained should be printed in a space-separated sequence on a single line.\n",
        "\n"
      ],
      "metadata": {
        "id": "tYvmRR-G4Vp4"
      }
    },
    {
      "cell_type": "code",
      "source": [
        "# Write code here\n",
        "\n",
        "values = []\n",
        "for i in range(1000, 3001):\n",
        "    s = str(i)\n",
        "    if (int(s[0])%2==0) and (int(s[1])%2==0) and (int(s[2])%2==0) and (int(s[3])%2==0):\n",
        "        values.append(s)\n",
        "print(\",\".join(values))"
      ],
      "metadata": {
        "id": "k6Gs1kIf4k19",
        "colab": {
          "base_uri": "https://localhost:8080/"
        },
        "outputId": "0f06290b-dd42-4b59-9a52-28466259b520"
      },
      "execution_count": 49,
      "outputs": [
        {
          "output_type": "stream",
          "name": "stdout",
          "text": [
            "2000,2002,2004,2006,2008,2020,2022,2024,2026,2028,2040,2042,2044,2046,2048,2060,2062,2064,2066,2068,2080,2082,2084,2086,2088,2200,2202,2204,2206,2208,2220,2222,2224,2226,2228,2240,2242,2244,2246,2248,2260,2262,2264,2266,2268,2280,2282,2284,2286,2288,2400,2402,2404,2406,2408,2420,2422,2424,2426,2428,2440,2442,2444,2446,2448,2460,2462,2464,2466,2468,2480,2482,2484,2486,2488,2600,2602,2604,2606,2608,2620,2622,2624,2626,2628,2640,2642,2644,2646,2648,2660,2662,2664,2666,2668,2680,2682,2684,2686,2688,2800,2802,2804,2806,2808,2820,2822,2824,2826,2828,2840,2842,2844,2846,2848,2860,2862,2864,2866,2868,2880,2882,2884,2886,2888\n"
          ]
        }
      ]
    },
    {
      "cell_type": "markdown",
      "source": [
        "###`Problem 11`: A robot moves in a plane starting from the original point (0,0). The robot can move toward UP, DOWN, LEFT and RIGHT with a given steps.\n",
        "The trace of robot movement is shown as the following:\n",
        "```\n",
        "UP 5\n",
        "DOWN 3\n",
        "LEFT 3\n",
        "RIGHT 2\n",
        "!\n",
        "```\n",
        "> The numbers after the direction are steps.\n",
        "\n",
        "> `!` means robot stop there.\n",
        "\n",
        "**Please write a program to compute the distance from current position after a sequence of movement and original point.**\n",
        "\n",
        "*If the distance is a float, then just print the nearest integer.*\n",
        "\n",
        "Example:\n",
        "\n",
        "`Input`:\n",
        "```\n",
        "UP 5\n",
        "DOWN 3\n",
        "LEFT 3\n",
        "RIGHT 2\n",
        "!\n",
        "```\n",
        "`Output`:\n",
        "```\n",
        "2\n",
        "```"
      ],
      "metadata": {
        "id": "GV18IINT4mf5"
      }
    },
    {
      "cell_type": "code",
      "source": [
        "# Write code here\n",
        "import math\n",
        "UP = int(input())\n",
        "DOWN = int(input())\n",
        "LEFT = int(input())\n",
        "RIGHT = int(input())\n",
        "\n",
        "Distance = round(math.sqrt((math.pow(UP-DOWN,2) + math.pow(LEFT-RIGHT,2))),0)\n",
        "print(Distance)"
      ],
      "metadata": {
        "id": "6UNMC2aR4w5x",
        "colab": {
          "base_uri": "https://localhost:8080/"
        },
        "outputId": "d455a49f-cc6b-4162-b927-603c1e77c74a"
      },
      "execution_count": 53,
      "outputs": [
        {
          "output_type": "stream",
          "name": "stdout",
          "text": [
            "8\n",
            "3\n",
            "5\n",
            "9\n",
            "6.0\n"
          ]
        }
      ]
    },
    {
      "cell_type": "markdown",
      "source": [
        "###`Problem 12`:Write a program to print whether a given number is a prime number or not"
      ],
      "metadata": {
        "id": "3fsAIAhK5GYY"
      }
    },
    {
      "cell_type": "code",
      "source": [
        "# Write code here\n",
        "\n",
        "n = int(input())\n",
        "\n",
        "for i in range(2,n):\n",
        "  if n%i == 0:\n",
        "    print(f'{n} is not a prime number')\n",
        "    break\n",
        "else:\n",
        "  print(f'{n} is a prime number')"
      ],
      "metadata": {
        "id": "j6y91lxy5LZs",
        "colab": {
          "base_uri": "https://localhost:8080/"
        },
        "outputId": "d1ad46e6-b3a3-4870-edc8-9d3b2bc6f31a"
      },
      "execution_count": 62,
      "outputs": [
        {
          "output_type": "stream",
          "name": "stdout",
          "text": [
            "17\n",
            "17 is a prime number\n"
          ]
        }
      ]
    },
    {
      "cell_type": "markdown",
      "source": [
        "###`Problem 13`:Print all the Armstrong numbers in a given range.\n",
        "Range will be provided by the user<br>\n",
        "Armstrong number is a number that is equal to the sum of cubes of its digits. For example 0, 1, 153, 370, 371 and 407 are the Armstrong numbers."
      ],
      "metadata": {
        "id": "asAbmbK-5NHv"
      }
    },
    {
      "cell_type": "code",
      "source": [
        "# Write code here"
      ],
      "metadata": {
        "id": "PZuI67pm5jCT"
      },
      "execution_count": null,
      "outputs": []
    },
    {
      "cell_type": "markdown",
      "source": [
        "###`Problem 14`:Calculate the angle between the hour hand and minute hand.\n",
        "\n",
        "Note: There can be two angles between hands; we need to print a minimum of two. Also, we need to print the floor of the final result angle. For example, if the final angle is 10.61, we need to print 10.\n",
        "\n",
        "Input:<br>\n",
        "H = 9 , M = 0<br>\n",
        "Output:<br>\n",
        "90<br>\n",
        "Explanation:<br>\n",
        "The minimum angle between hour and minute\n",
        "hand when the time is 9 is 90 degress."
      ],
      "metadata": {
        "id": "ClCQZMqT7gK0"
      }
    },
    {
      "cell_type": "code",
      "source": [
        "# Write code here"
      ],
      "metadata": {
        "id": "tNBTCZML7jy_"
      },
      "execution_count": null,
      "outputs": []
    },
    {
      "cell_type": "markdown",
      "source": [
        "###`Problem 15`:Given two rectangles, find if the given two rectangles overlap or not. A rectangle is denoted by providing the x and y coordinates of two points: the left top corner and the right bottom corner of the rectangle. Two rectangles sharing a side are considered overlapping. (L1 and R1 are the extreme points of the first rectangle and L2 and R2 are the extreme points of the second rectangle).\n",
        "\n",
        "Note: It may be assumed that the rectangles are parallel to the coordinate axis.\n",
        "\n",
        "<img src='https://www.geeksforgeeks.org/wp-content/uploads/rectanglesOverlap.png' width='300' height='200'>"
      ],
      "metadata": {
        "id": "GwacF9Co72Qc"
      }
    },
    {
      "cell_type": "code",
      "source": [
        "# Write code here"
      ],
      "metadata": {
        "id": "6rrw_lpH78Rs"
      },
      "execution_count": null,
      "outputs": []
    }
  ]
}