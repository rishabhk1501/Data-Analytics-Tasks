{
  "nbformat": 4,
  "nbformat_minor": 0,
  "metadata": {
    "colab": {
      "provenance": [],
      "include_colab_link": true
    },
    "kernelspec": {
      "name": "python3",
      "display_name": "Python 3"
    },
    "language_info": {
      "name": "python"
    }
  },
  "cells": [
    {
      "cell_type": "markdown",
      "metadata": {
        "id": "view-in-github",
        "colab_type": "text"
      },
      "source": [
        "<a href=\"https://colab.research.google.com/github/rishabhk1501/Data-Analytics-Tasks/blob/main/session_2_task.ipynb\" target=\"_parent\"><img src=\"https://colab.research.google.com/assets/colab-badge.svg\" alt=\"Open In Colab\"/></a>"
      ]
    },
    {
      "cell_type": "markdown",
      "source": [
        "### `Problem 1`: Write a program that will give you in hand monthly salary after deduction on CTC - HRA(10%), DA(5%), PF(3%) and taxes deduction as below:\n",
        "\n",
        "> Salary(Lakhs) : Tax(%)\n",
        "\n",
        "*   Below 5 : 0%\n",
        "*   5-10 : 10%\n",
        "*   10-20 : 20%\n",
        "*   aboove 20 : 30%"
      ],
      "metadata": {
        "id": "w6RlOAXV2PWh"
      }
    },
    {
      "cell_type": "code",
      "source": [
        "# Write code here\n",
        "\n",
        "ctc = int(input('Enter the salary: '))\n",
        "\n",
        "if (ctc <= 500000):\n",
        "  in_hand = ctc/12\n",
        "elif (ctc > 500000 and ctc <=1000000):\n",
        "  in_hand = (ctc*0.72)/12\n",
        "elif (ctc > 1000000 and ctc <=2000000):\n",
        "  in_hand = (ctc*0.62)/12\n",
        "else:\n",
        "  in_hand = (ctc*0.52)/12\n",
        "\n",
        "\n",
        "print('The inhand salary for ctc {} is {}'.format(ctc, in_hand))"
      ],
      "metadata": {
        "id": "7tMHvKYO2etI",
        "outputId": "0b74bab8-03e8-497e-e912-5d73ac3a57da",
        "colab": {
          "base_uri": "https://localhost:8080/"
        }
      },
      "execution_count": null,
      "outputs": [
        {
          "output_type": "stream",
          "name": "stdout",
          "text": [
            "Enter the salary: 2000000\n",
            "The inhand salary for ctc 2000000 is 103333.33333333333\n"
          ]
        }
      ]
    },
    {
      "cell_type": "markdown",
      "source": [
        "### `Problem 2`: Write a program that take a user input of three angles and will find out whether it can form a triangle or not."
      ],
      "metadata": {
        "id": "tYzCGqwl2hfN"
      }
    },
    {
      "cell_type": "code",
      "source": [
        "# Write code here\n",
        "\n",
        "A = int(input('Enter first angle: '))\n",
        "B = int(input('Enter second angle: '))\n",
        "C = int(input('Enter third angle: '))\n",
        "\n",
        "if  A>0 and B>0 and C>0 and (A+B+C) == 180:\n",
        "  print('Angle {}, {} and {} will form a triangle'.format(A, B, C))\n",
        "else:\n",
        "  print('Angle {}, {} and {} will not form a triangle'.format(A, B, C))"
      ],
      "metadata": {
        "id": "FYEqln-I2kxV",
        "outputId": "278ab9ac-c8e1-46eb-c063-d6e97ed1ead5",
        "colab": {
          "base_uri": "https://localhost:8080/"
        }
      },
      "execution_count": null,
      "outputs": [
        {
          "output_type": "stream",
          "name": "stdout",
          "text": [
            "Enter first angle: 90\n",
            "Enter second angle: 45\n",
            "Enter third angle: 45\n",
            "Angle 90, 45 and 45 will form a triangle\n"
          ]
        }
      ]
    },
    {
      "cell_type": "markdown",
      "source": [
        "### `Problem 3`: Write a program that will take user input of cost price and selling price and determines whether its a loss or a profit."
      ],
      "metadata": {
        "id": "5vEpPh8C2pE4"
      }
    },
    {
      "cell_type": "code",
      "source": [
        "# Write code here\n",
        "\n",
        "cp = float(input('Enter the cost price: '))\n",
        "sp = float(input('Enter the selling price: '))\n",
        "\n",
        "if (cp > 0 and sp > 0 and cp > sp):\n",
        "  print('It\\'s a loss')\n",
        "elif (cp > 0 and sp > 0 and cp < sp):\n",
        "  print('It\\'s a profit')\n",
        "else:\n",
        "  print('Invalid price entered')"
      ],
      "metadata": {
        "id": "jDwBXlkO2sfl",
        "outputId": "10106b50-f9ac-444a-a5b2-bd39502a622a",
        "colab": {
          "base_uri": "https://localhost:8080/"
        }
      },
      "execution_count": null,
      "outputs": [
        {
          "output_type": "stream",
          "name": "stdout",
          "text": [
            "Enter the cost price: 1000\n",
            "Enter the selling price: 1400\n",
            "It's a profit\n"
          ]
        }
      ]
    },
    {
      "cell_type": "markdown",
      "source": [
        "### `Problem 4`: Write a menu-driven program -\n",
        "1. cm to ft\n",
        "2. km to miles\n",
        "3. USD to INR\n",
        "4. exit"
      ],
      "metadata": {
        "id": "J_FG_cJW2ugT"
      }
    },
    {
      "cell_type": "code",
      "source": [
        "# Write code here\n",
        "\n",
        "option = int(input('Select the desired option from available four options: '))\n",
        "if option == 1:\n",
        "  print('You have selected option for cm to ft conversion')\n",
        "  value = int(input('Enter the value '))\n",
        "  ft = value/30.48\n",
        "  print('{} cm is equal to {} ft'.format(value,ft))\n",
        "elif option == 2:\n",
        "  print('You have selected option for km to miles conversion')\n",
        "  value = int(input('Enter the value '))\n",
        "  miles = value*0.621\n",
        "  print('{} km is equal to {} miles'.format(value,miles))\n",
        "elif option == 3:\n",
        "  print('You have selected option for USD to INR conversion')\n",
        "  value = int(input('Enter the value '))\n",
        "  INR = value*75.5\n",
        "  print('{} USD is equal to {} INR'.format(value,INR))\n",
        "elif option == 4:\n",
        "  print('You have left the menu driven calculator')\n",
        "else:\n",
        "  print('You have selected invalid option')"
      ],
      "metadata": {
        "id": "yBHhaCGQ2zpD",
        "outputId": "664f3947-7bcd-469c-8d46-8b361f6238ac",
        "colab": {
          "base_uri": "https://localhost:8080/"
        }
      },
      "execution_count": null,
      "outputs": [
        {
          "output_type": "stream",
          "name": "stdout",
          "text": [
            "Select the desired option from available four options: 2\n",
            "You have selected option for km to miles conversion\n",
            "Enter the value 15\n",
            "15 km is equal to 9.315 miles\n"
          ]
        }
      ]
    },
    {
      "cell_type": "markdown",
      "source": [
        "### `Problem 5` - Exercise 12: Display Fibonacci series up to 10 terms.\n",
        "\n",
        "*Note: The Fibonacci Sequence is a series of numbers. The next number is found by adding up the two numbers before it. The first two numbers are 0 and 1. For example, 0, 1, 1, 2, 3, 5, 8, 13, 21. The next number in this series above is 13+21 = 34*"
      ],
      "metadata": {
        "id": "LJJ30_Yw27ZU"
      }
    },
    {
      "cell_type": "code",
      "source": [
        "# Write code here\n",
        "n = int(input('Enter total number of terms of Fibonacci series to be displayed: '))\n",
        "series = [0,1]\n",
        "\n",
        "for i in range(3,n+1):\n",
        "  series.append(series[-2]+series[-1])\n",
        "\n",
        "print('Fibonacci series up to {} terms is as follows:'.format(n), series, sep = '\\n')"
      ],
      "metadata": {
        "id": "ae_1rpe52-5R",
        "outputId": "1f2be8c3-f0ea-4c37-d1b9-86d45a237364",
        "colab": {
          "base_uri": "https://localhost:8080/"
        }
      },
      "execution_count": null,
      "outputs": [
        {
          "output_type": "stream",
          "name": "stdout",
          "text": [
            "Enter total number of terms of Fibonacci series to be displayed: 23\n",
            "Fibonacci series up to 23 terms is as follows:\n",
            "[0, 1, 1, 2, 3, 5, 8, 13, 21, 34, 55, 89, 144, 233, 377, 610, 987, 1597, 2584, 4181, 6765, 10946, 17711]\n"
          ]
        }
      ]
    },
    {
      "cell_type": "markdown",
      "source": [
        "### `Problem 6` - Find the factorial of a given number.\n",
        "\n",
        "Write a program to use the loop to find the factorial of a given number.\n",
        "\n",
        "The factorial (symbol: `!`) means to multiply all whole numbers from the chosen number down to 1.\n",
        "\n",
        "For example: calculate the factorial of 5\n",
        "\n",
        "```bash\n",
        "5! = 5 × 4 × 3 × 2 × 1 = 120\n",
        "```\n",
        "\n",
        "Output:\n",
        "\n",
        "```bash\n",
        "120\n",
        "```"
      ],
      "metadata": {
        "id": "pk_I_S4m3PT5"
      }
    },
    {
      "cell_type": "code",
      "source": [
        "# Write code here\n",
        "# Using while loop\n",
        "\n",
        "n = int(input('Enter number to calculate it\\'s factorial: '))\n",
        "factorial = 1\n",
        "i = 1\n",
        "while i <= n:\n",
        "  factorial = factorial * i\n",
        "  i += 1\n",
        "\n",
        "print('Factorial for number {} is equal to {}'.format(n,factorial))\n"
      ],
      "metadata": {
        "id": "lzXxHegx3Rkc",
        "outputId": "8da205cd-b575-4679-fde6-2358396d0e42",
        "colab": {
          "base_uri": "https://localhost:8080/"
        }
      },
      "execution_count": null,
      "outputs": [
        {
          "output_type": "stream",
          "name": "stdout",
          "text": [
            "Enter number to calculate it's factorial: 16\n",
            "Factorial for number 16 is equal to 20922789888000\n"
          ]
        }
      ]
    },
    {
      "cell_type": "code",
      "source": [
        "# Using for loop\n",
        "\n",
        "n = int(input('Enter number to calculate it\\'s factorial: '))\n",
        "factorial = 1\n",
        "for i in range(1,n+1):\n",
        "  factorial = factorial * i\n",
        "\n",
        "print('Factorial for number {} is equal to {}'.format(n,factorial))"
      ],
      "metadata": {
        "id": "Bgh98lG4hYFC",
        "outputId": "c013e9fb-8e6e-4205-b144-b10d41bdceb7",
        "colab": {
          "base_uri": "https://localhost:8080/"
        }
      },
      "execution_count": null,
      "outputs": [
        {
          "output_type": "stream",
          "name": "stdout",
          "text": [
            "Enter number to calculate it's factorial: 16\n",
            "Factorial for number 16 is equal to 20922789888000\n"
          ]
        }
      ]
    },
    {
      "cell_type": "markdown",
      "source": [
        "### `Problem 7` - Reverse a given integer number.\n",
        "\n",
        "Example:\n",
        "\n",
        "`Input:`\n",
        "\n",
        "```bash\n",
        "76542\n",
        "```\n",
        "\n",
        "`Output:`\n",
        "\n",
        "```bash\n",
        "24567\n",
        "```"
      ],
      "metadata": {
        "id": "-17IOi-g3UpU"
      }
    },
    {
      "cell_type": "code",
      "source": [
        "# Write code here\n",
        "\n",
        "n = input('Enter integer: ')\n",
        "\n",
        "reverse_n = int(n[::-1])\n",
        "\n",
        "print('The reverse of the integer {} is {}'.format(n,reverse_n))"
      ],
      "metadata": {
        "id": "wJwLpKCr3aVA",
        "outputId": "453e2e5c-5591-45ee-ffb5-e1a5fc2ef90a",
        "colab": {
          "base_uri": "https://localhost:8080/"
        }
      },
      "execution_count": null,
      "outputs": [
        {
          "output_type": "stream",
          "name": "stdout",
          "text": [
            "Enter integer: 1234567\n",
            "The reverse of the integer 1234567 is 7654321\n"
          ]
        }
      ]
    },
    {
      "cell_type": "markdown",
      "source": [
        "### `Problem 8`: Take a user input as integer N. Find out the sum from 1 to N. If any number if divisible by 5, then skip that number. And if the sum is greater than 300, don't need to calculate the sum further more. Print the final result. And don't use for loop to solve this problem.\n",
        "\n",
        "**Example 1:**\n",
        "\n",
        "`Input:`\n",
        "\n",
        "```bash\n",
        "30\n",
        "```\n",
        "\n",
        "`Output:`\n",
        "\n",
        "```bash\n",
        "276\n",
        "```"
      ],
      "metadata": {
        "id": "-t8PJQaY3sHf"
      }
    },
    {
      "cell_type": "code",
      "source": [
        "# Write code here\n",
        "\n",
        "n = int(input('Enter integer: '))\n",
        "\n",
        "sum = 0\n",
        "i = 1\n",
        "while i <= n:\n",
        "  if (i % 5 != 0 and sum < 300):\n",
        "    sum = sum + i\n",
        "  i = i + 1\n",
        "\n",
        "\n",
        "print('The total sum from 1 to {} excluding the numbers divisible by 5 is {}'.format(n,sum))"
      ],
      "metadata": {
        "id": "GZB6mGMP3ujT",
        "outputId": "8f8c4c7e-b256-4b20-8121-a06a1eec112b",
        "colab": {
          "base_uri": "https://localhost:8080/"
        }
      },
      "execution_count": null,
      "outputs": [
        {
          "output_type": "stream",
          "name": "stdout",
          "text": [
            "Enter integer: 30\n",
            "The total sum from 1 to 30 excluding the numbers divisible by 5 is 303\n"
          ]
        }
      ]
    },
    {
      "cell_type": "code",
      "source": [
        "# Using break statement\n",
        "\n",
        "N = int(input(\"Enter an integer N: \"))\n",
        "\n",
        "total_sum = 0\n",
        "i = 1\n",
        "\n",
        "while i <= N:\n",
        "    if i % 5 != 0:  # Skip numbers divisible by 5\n",
        "        total_sum += i\n",
        "        if total_sum > 300:  # Check if sum exceeds 300\n",
        "            break\n",
        "    i += 1\n",
        "\n",
        "print(\"The sum from 1 to {} excluding numbers divisible by 5 and sum greater than 300 is: {}\".format(N, total_sum))"
      ],
      "metadata": {
        "id": "Uvr34bzoVIWa",
        "outputId": "58398df6-da74-446a-e0bb-be2fcda167fa",
        "colab": {
          "base_uri": "https://localhost:8080/"
        }
      },
      "execution_count": null,
      "outputs": [
        {
          "output_type": "stream",
          "name": "stdout",
          "text": [
            "Enter an integer N: 30\n",
            "The sum from 1 to 30 excluding numbers divisible by 5 and sum greater than 300 is: 303\n"
          ]
        }
      ]
    },
    {
      "cell_type": "code",
      "source": [
        "# Using break and continue statement\n",
        "\n",
        "N = int(input(\"Enter an integer N: \"))\n",
        "\n",
        "total_sum = 0\n",
        "i = 1\n",
        "\n",
        "while i <= N:\n",
        "    if i % 5 == 0:  # Check if number is divisible by 5\n",
        "        i += 1\n",
        "        continue  # Skip to next iteration if divisible by 5\n",
        "\n",
        "    total_sum += i\n",
        "    if total_sum > 300:  # Check if sum exceeds 300\n",
        "        break\n",
        "\n",
        "    i += 1\n",
        "\n",
        "print(\"The sum from 1 to {} excluding numbers divisible by 5 and sum greater than 300 is: {}\".format(N, total_sum))\n"
      ],
      "metadata": {
        "id": "bw7OL2O5YEZp",
        "outputId": "3ff81289-9989-4fc2-a194-ff5bb6434184",
        "colab": {
          "base_uri": "https://localhost:8080/"
        }
      },
      "execution_count": null,
      "outputs": [
        {
          "output_type": "stream",
          "name": "stdout",
          "text": [
            "Enter an integer N: 30\n",
            "The sum from 1 to 30 excluding numbers divisible by 5 and sum greater than 300 is: 303\n"
          ]
        }
      ]
    },
    {
      "cell_type": "markdown",
      "source": [
        "### `Problem 9`: Write a program that keeps on accepting a number from the user until the user enters Zero. Display the sum and average of all the numbers.\n",
        "\n"
      ],
      "metadata": {
        "id": "Q7ggImeA3xm4"
      }
    },
    {
      "cell_type": "code",
      "source": [
        "# Write code here\n",
        "\n",
        "n = float(input('Enter the number: '))\n",
        "bucket = [n]\n",
        "count = 0\n",
        "while n != 0:\n",
        "  n = float(input('Enter the number: '))\n",
        "  bucket.append(n)\n",
        "  count = count + 1\n",
        "\n",
        "print('The total sum of all numbers is equal to {}'.format(sum(bucket)))\n",
        "print('The average of all numbers is equal to {}'.format(sum(bucket)/(count)))"
      ],
      "metadata": {
        "id": "t_YDSZDe4Kdo",
        "outputId": "dd5d1b70-3779-4f1e-c241-b603a34c8b75",
        "colab": {
          "base_uri": "https://localhost:8080/"
        }
      },
      "execution_count": null,
      "outputs": [
        {
          "output_type": "stream",
          "name": "stdout",
          "text": [
            "Enter the number: 12\n",
            "Enter the number: 43\n",
            "Enter the number: 78\n",
            "Enter the number: 38\n",
            "Enter the number: 74\n",
            "Enter the number: 95\n",
            "Enter the number: 78\n",
            "Enter the number: 0\n",
            "The total sum of all numbers is equal to 418.0\n",
            "The average of all numbers is equal to 59.714285714285715\n"
          ]
        }
      ]
    },
    {
      "cell_type": "code",
      "source": [
        "# Initialize variables to store sum and count\n",
        "total_sum = 0\n",
        "count = 0\n",
        "\n",
        "# Keep accepting numbers until zero is entered\n",
        "while True:\n",
        "    num = float(input(\"Enter a number (enter 0 to stop): \"))\n",
        "\n",
        "    # Check if the number is zero\n",
        "    if num == 0:\n",
        "        break\n",
        "\n",
        "    # Add the number to the sum\n",
        "    total_sum += num\n",
        "    count += 1\n",
        "\n",
        "# Calculate the average\n",
        "if count != 0:\n",
        "    average = total_sum / count\n",
        "else:\n",
        "    average = 0\n",
        "\n",
        "# Display the sum and average\n",
        "print(\"Sum of all numbers:\", total_sum)\n",
        "print(\"Average of all numbers:\", average)\n"
      ],
      "metadata": {
        "colab": {
          "base_uri": "https://localhost:8080/"
        },
        "id": "XexDVqbFp30n",
        "outputId": "b16b9abb-c4fd-4407-cdec-02209e2d79e1"
      },
      "execution_count": null,
      "outputs": [
        {
          "output_type": "stream",
          "name": "stdout",
          "text": [
            "Enter a number (enter 0 to stop): 12\n",
            "Enter a number (enter 0 to stop): 43\n",
            "Enter a number (enter 0 to stop): 78\n",
            "Enter a number (enter 0 to stop): 38\n",
            "Enter a number (enter 0 to stop): 74\n",
            "Enter a number (enter 0 to stop): 95\n",
            "Enter a number (enter 0 to stop): 78\n",
            "Enter a number (enter 0 to stop): 0\n",
            "Sum of all numbers: 418.0\n",
            "Average of all numbers: 59.714285714285715\n"
          ]
        }
      ]
    },
    {
      "cell_type": "markdown",
      "source": [
        "###`Problem 9`: Write a program which will find all such numbers which are divisible by 7 but are not a multiple of 5, between 2000 and 3200 (both included). The numbers obtained should be printed in a comma-separated sequence on a single line."
      ],
      "metadata": {
        "id": "6EhvEMvm4R7s"
      }
    },
    {
      "cell_type": "code",
      "source": [
        "# Write code here\n",
        "# using list and join function\n",
        "bucket = []\n",
        "for i in range(2000,3201):\n",
        "  if (i%7 == 0 and i%5 != 0):\n",
        "    bucket.append(str(i))\n",
        "print(', '.join(bucket))"
      ],
      "metadata": {
        "id": "d6RgP1B34T6c",
        "colab": {
          "base_uri": "https://localhost:8080/"
        },
        "outputId": "3cde44de-06be-4ba4-f371-855c50d142a5"
      },
      "execution_count": null,
      "outputs": [
        {
          "output_type": "stream",
          "name": "stdout",
          "text": [
            "2002, 2009, 2016, 2023, 2037, 2044, 2051, 2058, 2072, 2079, 2086, 2093, 2107, 2114, 2121, 2128, 2142, 2149, 2156, 2163, 2177, 2184, 2191, 2198, 2212, 2219, 2226, 2233, 2247, 2254, 2261, 2268, 2282, 2289, 2296, 2303, 2317, 2324, 2331, 2338, 2352, 2359, 2366, 2373, 2387, 2394, 2401, 2408, 2422, 2429, 2436, 2443, 2457, 2464, 2471, 2478, 2492, 2499, 2506, 2513, 2527, 2534, 2541, 2548, 2562, 2569, 2576, 2583, 2597, 2604, 2611, 2618, 2632, 2639, 2646, 2653, 2667, 2674, 2681, 2688, 2702, 2709, 2716, 2723, 2737, 2744, 2751, 2758, 2772, 2779, 2786, 2793, 2807, 2814, 2821, 2828, 2842, 2849, 2856, 2863, 2877, 2884, 2891, 2898, 2912, 2919, 2926, 2933, 2947, 2954, 2961, 2968, 2982, 2989, 2996, 3003, 3017, 3024, 3031, 3038, 3052, 3059, 3066, 3073, 3087, 3094, 3101, 3108, 3122, 3129, 3136, 3143, 3157, 3164, 3171, 3178, 3192, 3199\n"
          ]
        }
      ]
    },
    {
      "cell_type": "code",
      "source": [
        "# Using print settings and backspace sequence\n",
        "\n",
        "'''The \"\\b\" sequence in Python represents the backspace character.\n",
        "When you print \"\\b\", it moves the cursor back one position, effectively\n",
        "erasing the last character printed on the screen'''\n",
        "\n",
        "for i in range(2000,3201):\n",
        "  if (i%7 == 0 and i%5 != 0):\n",
        "    print(i, end = ', ')\n",
        "\n",
        "# We will use two backspace sequence character to remove one comma and one space after the last digit.\n",
        "print(\"\\b\\b\")"
      ],
      "metadata": {
        "colab": {
          "base_uri": "https://localhost:8080/"
        },
        "id": "ZCnAfDKz5MQi",
        "outputId": "ea092285-9a8c-48f6-dce9-693827d81679"
      },
      "execution_count": null,
      "outputs": [
        {
          "output_type": "stream",
          "name": "stdout",
          "text": [
            "2002, 2009, 2016, 2023, 2037, 2044, 2051, 2058, 2072, 2079, 2086, 2093, 2107, 2114, 2121, 2128, 2142, 2149, 2156, 2163, 2177, 2184, 2191, 2198, 2212, 2219, 2226, 2233, 2247, 2254, 2261, 2268, 2282, 2289, 2296, 2303, 2317, 2324, 2331, 2338, 2352, 2359, 2366, 2373, 2387, 2394, 2401, 2408, 2422, 2429, 2436, 2443, 2457, 2464, 2471, 2478, 2492, 2499, 2506, 2513, 2527, 2534, 2541, 2548, 2562, 2569, 2576, 2583, 2597, 2604, 2611, 2618, 2632, 2639, 2646, 2653, 2667, 2674, 2681, 2688, 2702, 2709, 2716, 2723, 2737, 2744, 2751, 2758, 2772, 2779, 2786, 2793, 2807, 2814, 2821, 2828, 2842, 2849, 2856, 2863, 2877, 2884, 2891, 2898, 2912, 2919, 2926, 2933, 2947, 2954, 2961, 2968, 2982, 2989, 2996, 3003, 3017, 3024, 3031, 3038, 3052, 3059, 3066, 3073, 3087, 3094, 3101, 3108, 3122, 3129, 3136, 3143, 3157, 3164, 3171, 3178, 3192, 3199, \b\b\n"
          ]
        }
      ]
    },
    {
      "cell_type": "markdown",
      "source": [
        "###`Problem 10`: Write a program, which will find all such numbers between 1000 and 3000 (both included) such that each digit of the number is an even number. The numbers obtained should be printed in a space-separated sequence on a single line.\n",
        "\n"
      ],
      "metadata": {
        "id": "tYvmRR-G4Vp4"
      }
    },
    {
      "cell_type": "code",
      "source": [
        "# Write code here\n",
        "\n",
        "for i in range(1000,3001):\n",
        "  if ((int(str(i)[0]) % 2 == 0) and (int(str(i)[1]) % 2 == 0) and (int(str(i)[2]) % 2 == 0) and (int(str(i)[3]) % 2 == 0)):\n",
        "    print(i, end = ' ')\n"
      ],
      "metadata": {
        "id": "k6Gs1kIf4k19",
        "colab": {
          "base_uri": "https://localhost:8080/"
        },
        "outputId": "7e2e2f67-4ad9-4578-adfa-a60616d31b9e"
      },
      "execution_count": null,
      "outputs": [
        {
          "output_type": "stream",
          "name": "stdout",
          "text": [
            "2000 2002 2004 2006 2008 2020 2022 2024 2026 2028 2040 2042 2044 2046 2048 2060 2062 2064 2066 2068 2080 2082 2084 2086 2088 2200 2202 2204 2206 2208 2220 2222 2224 2226 2228 2240 2242 2244 2246 2248 2260 2262 2264 2266 2268 2280 2282 2284 2286 2288 2400 2402 2404 2406 2408 2420 2422 2424 2426 2428 2440 2442 2444 2446 2448 2460 2462 2464 2466 2468 2480 2482 2484 2486 2488 2600 2602 2604 2606 2608 2620 2622 2624 2626 2628 2640 2642 2644 2646 2648 2660 2662 2664 2666 2668 2680 2682 2684 2686 2688 2800 2802 2804 2806 2808 2820 2822 2824 2826 2828 2840 2842 2844 2846 2848 2860 2862 2864 2866 2868 2880 2882 2884 2886 2888 "
          ]
        }
      ]
    },
    {
      "cell_type": "markdown",
      "source": [
        "###`Problem 11`: A robot moves in a plane starting from the original point (0,0). The robot can move toward UP, DOWN, LEFT and RIGHT with a given steps.\n",
        "The trace of robot movement is shown as the following:\n",
        "```\n",
        "UP 5\n",
        "DOWN 3\n",
        "LEFT 3\n",
        "RIGHT 2\n",
        "!\n",
        "```\n",
        "> The numbers after the direction are steps.\n",
        "\n",
        "> `!` means robot stop there.\n",
        "\n",
        "**Please write a program to compute the distance from current position after a sequence of movement and original point.**\n",
        "\n",
        "*If the distance is a float, then just print the nearest integer.*\n",
        "\n",
        "Example:\n",
        "\n",
        "`Input`:\n",
        "```\n",
        "UP 5\n",
        "DOWN 3\n",
        "LEFT 3\n",
        "RIGHT 2\n",
        "!\n",
        "```\n",
        "`Output`:\n",
        "```\n",
        "2\n",
        "```"
      ],
      "metadata": {
        "id": "GV18IINT4mf5"
      }
    },
    {
      "cell_type": "code",
      "source": [
        "import math\n",
        "\n",
        "x, y = 0, 0\n",
        "\n",
        "while True:\n",
        "    step = input(\"Type in UP/DOWN/LEFT/RIGHT #step number: \")\n",
        "\n",
        "    if step == \"\":\n",
        "        break\n",
        "\n",
        "    else:\n",
        "        step = step.split(\" \", 1)  # Split at most once\n",
        "\n",
        "        if step[0] == \"UP\":\n",
        "            y += int(step[1])\n",
        "        elif step[0] == \"DOWN\":\n",
        "            y -= int(step[1])\n",
        "        elif step[0] == \"LEFT\":\n",
        "            x -= int(step[1])\n",
        "        elif step[0] == \"RIGHT\":\n",
        "            x += int(step[1])\n",
        "\n",
        "distance = math.sqrt(x**2 + y**2)\n",
        "\n",
        "print(\"Distance:\", distance)"
      ],
      "metadata": {
        "colab": {
          "base_uri": "https://localhost:8080/"
        },
        "id": "hEmin1M4IZEk",
        "outputId": "e9d6e907-356f-4427-d7eb-db178443149d"
      },
      "execution_count": null,
      "outputs": [
        {
          "output_type": "stream",
          "name": "stdout",
          "text": [
            "Type in UP/DOWN/LEFT/RIGHT #step number: UP 5\n",
            "Type in UP/DOWN/LEFT/RIGHT #step number: DOWN 3\n",
            "Type in UP/DOWN/LEFT/RIGHT #step number: LEFT 3\n",
            "Type in UP/DOWN/LEFT/RIGHT #step number: RIGHT 2\n",
            "Type in UP/DOWN/LEFT/RIGHT #step number: \n",
            "Distance: 2.23606797749979\n"
          ]
        }
      ]
    },
    {
      "cell_type": "markdown",
      "source": [
        "###`Problem 12`:Write a program to print whether a given number is a prime number or not"
      ],
      "metadata": {
        "id": "3fsAIAhK5GYY"
      }
    },
    {
      "cell_type": "code",
      "source": [
        "# Write code here\n",
        "\n",
        "n = int(input('Enter number: '))\n",
        "\n",
        "if n < 2:\n",
        "  print('Incorrect entry, numbers less than 2 are not prime numbers')\n",
        "else:\n",
        "  for i in range(2,n):\n",
        "    if n%i == 0:\n",
        "      print('{} is not a prime number'.format(n))\n",
        "      break\n",
        "  else:\n",
        "    print('{} is a prime number'.format(n))"
      ],
      "metadata": {
        "id": "j6y91lxy5LZs",
        "colab": {
          "base_uri": "https://localhost:8080/"
        },
        "outputId": "710ebcd5-2f41-41c8-ac0b-1a1f4517acdf"
      },
      "execution_count": null,
      "outputs": [
        {
          "output_type": "stream",
          "name": "stdout",
          "text": [
            "Enter number: 106471457\n",
            "106471457 is a prime number\n"
          ]
        }
      ]
    },
    {
      "cell_type": "markdown",
      "source": [
        "###`Problem 13`:Print all the Armstrong numbers in a given range.\n",
        "Range will be provided by the user<br>\n",
        "An Armstrong number (also known as a narcissistic number, plenary number, or pluperfect number) is a number that is equal to the sum of its own digits raised to the power of the number of digits. In other words, if you take each digit of the number, raise it to the power of the total number of digits in the number, and then sum these values, if the result equals the original number, then that number is an Armstrong number.\n",
        "\n",
        "For example:\n",
        "\n",
        "153 is an Armstrong number because 1^3 + 5^3 + 3^3 = 153.\n",
        "\n",
        "9474 is an Armstrong number because 9^4 + 4^4 + 7^4 + 4^4 = 9474."
      ],
      "metadata": {
        "id": "asAbmbK-5NHv"
      }
    },
    {
      "cell_type": "code",
      "source": [
        "# Write code here\n",
        "a = int(input('Enter lower interval of the range: '))\n",
        "b = int(input('Enter upper interval of the range: '))\n",
        "\n",
        "\n",
        "bucket = []\n",
        "if (a < 0 or b < 0 or a>=b):\n",
        "  print('Incorrect entry')\n",
        "else:\n",
        "  for i in range(a,b+1):\n",
        "    num_digits = len(str(i))\n",
        "    sum_of_cubes = 0\n",
        "    for j in str(i):\n",
        "      sum_of_cubes = sum_of_cubes + (int(j))**num_digits\n",
        "    if (sum_of_cubes == i):\n",
        "      bucket.append(i)\n",
        "\n",
        "print(bucket)"
      ],
      "metadata": {
        "id": "PZuI67pm5jCT",
        "colab": {
          "base_uri": "https://localhost:8080/"
        },
        "outputId": "22dcd1fd-f3d9-4f65-ff75-92833dd7a4ba"
      },
      "execution_count": 110,
      "outputs": [
        {
          "output_type": "stream",
          "name": "stdout",
          "text": [
            "Enter lower interval of the range: 0\n",
            "Enter upper interval of the range: 1000000\n",
            "[0, 1, 2, 3, 4, 5, 6, 7, 8, 9, 153, 370, 371, 407, 1634, 8208, 9474, 54748, 92727, 93084, 548834]\n"
          ]
        }
      ]
    },
    {
      "cell_type": "markdown",
      "source": [
        "###`Problem 14`:Calculate the angle between the hour hand and minute hand.\n",
        "\n",
        "Note: There can be two angles between hands; we need to print a minimum of two. Also, we need to print the floor of the final result angle. For example, if the final angle is 10.61, we need to print 10.\n",
        "\n",
        "Input:<br>\n",
        "H = 9 , M = 0<br>\n",
        "Output:<br>\n",
        "90<br>\n",
        "Explanation:<br>\n",
        "The minimum angle between hour and minute\n",
        "hand when the time is 9 is 90 degress."
      ],
      "metadata": {
        "id": "ClCQZMqT7gK0"
      }
    },
    {
      "cell_type": "code",
      "source": [
        "# Write code here\n",
        "import math\n",
        "hour = int(input(\"Enter the hour (0-23): \"))\n",
        "minute = int(input(\"Enter the minute (0-59): \"))\n",
        "\n",
        "hour_angle = (30 * (hour % 12)) + (0.5 * minute)\n",
        "minute_angle = 6 * minute\n",
        "\n",
        "abs_diff = abs(hour_angle - minute_angle)\n",
        "\n",
        "angle = min(abs_diff, 360 - abs_diff)\n",
        "\n",
        "if 0 <= hour <= 23 and 0 <= minute <= 59:\n",
        "  print(\"The angle between the hour hand and minute hand is {} degrees.\".format(math.floor(angle)))\n",
        "else:\n",
        "  print(\"Invalid input! Please enter a valid hour (0-23) and minute (0-59).\")"
      ],
      "metadata": {
        "id": "tNBTCZML7jy_",
        "outputId": "44997cc1-3d2d-46de-d645-ca3159c02230",
        "colab": {
          "base_uri": "https://localhost:8080/"
        }
      },
      "execution_count": 131,
      "outputs": [
        {
          "output_type": "stream",
          "name": "stdout",
          "text": [
            "Enter the hour (0-23): 9\n",
            "Enter the minute (0-59): 0\n",
            "The angle between the hour hand and minute hand is 90 degrees.\n"
          ]
        }
      ]
    },
    {
      "cell_type": "markdown",
      "source": [
        "###`Problem 15`:Given two rectangles, find if the given two rectangles overlap or not. A rectangle is denoted by providing the x and y coordinates of two points: the left top corner and the right bottom corner of the rectangle. Two rectangles sharing a side are considered overlapping. (L1 and R1 are the extreme points of the first rectangle and L2 and R2 are the extreme points of the second rectangle).\n",
        "\n",
        "Note: It may be assumed that the rectangles are parallel to the coordinate axis.\n",
        "\n",
        "<img src='https://www.geeksforgeeks.org/wp-content/uploads/rectanglesOverlap.png' width='300' height='200'>"
      ],
      "metadata": {
        "id": "GwacF9Co72Qc"
      }
    },
    {
      "cell_type": "code",
      "source": [
        "# Write code here"
      ],
      "metadata": {
        "id": "6rrw_lpH78Rs"
      },
      "execution_count": null,
      "outputs": []
    }
  ]
}