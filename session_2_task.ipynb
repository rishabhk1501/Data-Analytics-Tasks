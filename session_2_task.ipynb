{
  "nbformat": 4,
  "nbformat_minor": 0,
  "metadata": {
    "colab": {
      "provenance": [],
      "include_colab_link": true
    },
    "kernelspec": {
      "name": "python3",
      "display_name": "Python 3"
    },
    "language_info": {
      "name": "python"
    }
  },
  "cells": [
    {
      "cell_type": "markdown",
      "metadata": {
        "id": "view-in-github",
        "colab_type": "text"
      },
      "source": [
        "<a href=\"https://colab.research.google.com/github/rishabhk1501/Data-Analytics-Tasks/blob/main/session_2_task.ipynb\" target=\"_parent\"><img src=\"https://colab.research.google.com/assets/colab-badge.svg\" alt=\"Open In Colab\"/></a>"
      ]
    },
    {
      "cell_type": "markdown",
      "source": [
        "### `Problem 1`: Write a program that will give you in hand monthly salary after deduction on CTC - HRA(10%), DA(5%), PF(3%) and taxes deduction as below:\n",
        "\n",
        "> Salary(Lakhs) : Tax(%)\n",
        "\n",
        "*   Below 5 : 0%\n",
        "*   5-10 : 10%\n",
        "*   10-20 : 20%\n",
        "*   aboove 20 : 30%"
      ],
      "metadata": {
        "id": "w6RlOAXV2PWh"
      }
    },
    {
      "cell_type": "code",
      "source": [
        "# Write code here\n",
        "\n",
        "ctc = int(input('Enter the salary: '))\n",
        "\n",
        "if (ctc <= 500000):\n",
        "  in_hand = ctc/12\n",
        "elif (ctc > 500000 and ctc <=1000000):\n",
        "  in_hand = (ctc*0.72)/12\n",
        "elif (ctc > 1000000 and ctc <=2000000):\n",
        "  in_hand = (ctc*0.62)/12\n",
        "else:\n",
        "  in_hand = (ctc*0.52)/12\n",
        "\n",
        "\n",
        "print('The inhand salary for ctc {} is {}'.format(ctc, in_hand))"
      ],
      "metadata": {
        "id": "7tMHvKYO2etI",
        "outputId": "0b74bab8-03e8-497e-e912-5d73ac3a57da",
        "colab": {
          "base_uri": "https://localhost:8080/"
        }
      },
      "execution_count": 11,
      "outputs": [
        {
          "output_type": "stream",
          "name": "stdout",
          "text": [
            "Enter the salary: 2000000\n",
            "The inhand salary for ctc 2000000 is 103333.33333333333\n"
          ]
        }
      ]
    },
    {
      "cell_type": "markdown",
      "source": [
        "### `Problem 2`: Write a program that take a user input of three angles and will find out whether it can form a triangle or not."
      ],
      "metadata": {
        "id": "tYzCGqwl2hfN"
      }
    },
    {
      "cell_type": "code",
      "source": [
        "# Write code here\n",
        "\n",
        "A = int(input('Enter first angle: '))\n",
        "B = int(input('Enter second angle: '))\n",
        "C = int(input('Enter third angle: '))\n",
        "\n",
        "if  A>0 and B>0 and C>0 and (A+B+C) == 180:\n",
        "  print('Angle {}, {} and {} will form a triangle'.format(A, B, C))\n",
        "else:\n",
        "  print('Angle {}, {} and {} will not form a triangle'.format(A, B, C))"
      ],
      "metadata": {
        "id": "FYEqln-I2kxV",
        "outputId": "278ab9ac-c8e1-46eb-c063-d6e97ed1ead5",
        "colab": {
          "base_uri": "https://localhost:8080/"
        }
      },
      "execution_count": 23,
      "outputs": [
        {
          "output_type": "stream",
          "name": "stdout",
          "text": [
            "Enter first angle: 90\n",
            "Enter second angle: 45\n",
            "Enter third angle: 45\n",
            "Angle 90, 45 and 45 will form a triangle\n"
          ]
        }
      ]
    },
    {
      "cell_type": "markdown",
      "source": [
        "### `Problem 3`: Write a program that will take user input of cost price and selling price and determines whether its a loss or a profit."
      ],
      "metadata": {
        "id": "5vEpPh8C2pE4"
      }
    },
    {
      "cell_type": "code",
      "source": [
        "# Write code here\n",
        "\n",
        "cp = float(input('Enter the cost price: '))\n",
        "sp = float(input('Enter the selling price: '))\n",
        "\n",
        "if (cp > 0 and sp > 0 and cp > sp):\n",
        "  print('It\\'s a loss')\n",
        "elif (cp > 0 and sp > 0 and cp < sp):\n",
        "  print('It\\'s a profit')\n",
        "else:\n",
        "  print('Invalid price entered')"
      ],
      "metadata": {
        "id": "jDwBXlkO2sfl",
        "outputId": "10106b50-f9ac-444a-a5b2-bd39502a622a",
        "colab": {
          "base_uri": "https://localhost:8080/"
        }
      },
      "execution_count": 27,
      "outputs": [
        {
          "output_type": "stream",
          "name": "stdout",
          "text": [
            "Enter the cost price: 1000\n",
            "Enter the selling price: 1400\n",
            "It's a profit\n"
          ]
        }
      ]
    },
    {
      "cell_type": "markdown",
      "source": [
        "### `Problem 4`: Write a menu-driven program -\n",
        "1. cm to ft\n",
        "2. km to miles\n",
        "3. USD to INR\n",
        "4. exit"
      ],
      "metadata": {
        "id": "J_FG_cJW2ugT"
      }
    },
    {
      "cell_type": "code",
      "source": [
        "# Write code here\n",
        "\n",
        "option = int(input('Select the desired option from available four options: '))\n",
        "if option == 1:\n",
        "  print('You have selected option for cm to ft conversion')\n",
        "  value = int(input('Enter the value '))\n",
        "  ft = value/30.48\n",
        "  print('{} cm is equal to {} ft'.format(value,ft))\n",
        "elif option == 2:\n",
        "  print('You have selected option for km to miles conversion')\n",
        "  value = int(input('Enter the value '))\n",
        "  miles = value*0.621\n",
        "  print('{} km is equal to {} miles'.format(value,miles))\n",
        "elif option == 3:\n",
        "  print('You have selected option for USD to INR conversion')\n",
        "  value = int(input('Enter the value '))\n",
        "  INR = value*75.5\n",
        "  print('{} USD is equal to {} INR'.format(value,INR))\n",
        "elif option == 4:\n",
        "  print('You have left the menu driven calculator')\n",
        "else:\n",
        "  print('You have selected invalid option')"
      ],
      "metadata": {
        "id": "yBHhaCGQ2zpD",
        "outputId": "664f3947-7bcd-469c-8d46-8b361f6238ac",
        "colab": {
          "base_uri": "https://localhost:8080/"
        }
      },
      "execution_count": 55,
      "outputs": [
        {
          "output_type": "stream",
          "name": "stdout",
          "text": [
            "Select the desired option from available four options: 2\n",
            "You have selected option for km to miles conversion\n",
            "Enter the value 15\n",
            "15 km is equal to 9.315 miles\n"
          ]
        }
      ]
    },
    {
      "cell_type": "markdown",
      "source": [
        "### `Problem 5` - Exercise 12: Display Fibonacci series up to 10 terms.\n",
        "\n",
        "*Note: The Fibonacci Sequence is a series of numbers. The next number is found by adding up the two numbers before it. The first two numbers are 0 and 1. For example, 0, 1, 1, 2, 3, 5, 8, 13, 21. The next number in this series above is 13+21 = 34*"
      ],
      "metadata": {
        "id": "LJJ30_Yw27ZU"
      }
    },
    {
      "cell_type": "code",
      "source": [
        "# Write code here\n",
        "n = int(input('Enter total number of terms of Fibonacci series to be displayed: '))\n",
        "series = [0,1]\n",
        "\n",
        "for i in range(3,n+1):\n",
        "  series.append(series[-2]+series[-1])\n",
        "\n",
        "print('Fibonacci series up to {} terms is as follows:'.format(n), series, sep = '\\n')"
      ],
      "metadata": {
        "id": "ae_1rpe52-5R",
        "outputId": "1f2be8c3-f0ea-4c37-d1b9-86d45a237364",
        "colab": {
          "base_uri": "https://localhost:8080/"
        }
      },
      "execution_count": 58,
      "outputs": [
        {
          "output_type": "stream",
          "name": "stdout",
          "text": [
            "Enter total number of terms of Fibonacci series to be displayed: 23\n",
            "Fibonacci series up to 23 terms is as follows:\n",
            "[0, 1, 1, 2, 3, 5, 8, 13, 21, 34, 55, 89, 144, 233, 377, 610, 987, 1597, 2584, 4181, 6765, 10946, 17711]\n"
          ]
        }
      ]
    },
    {
      "cell_type": "markdown",
      "source": [
        "### `Problem 6` - Find the factorial of a given number.\n",
        "\n",
        "Write a program to use the loop to find the factorial of a given number.\n",
        "\n",
        "The factorial (symbol: `!`) means to multiply all whole numbers from the chosen number down to 1.\n",
        "\n",
        "For example: calculate the factorial of 5\n",
        "\n",
        "```bash\n",
        "5! = 5 × 4 × 3 × 2 × 1 = 120\n",
        "```\n",
        "\n",
        "Output:\n",
        "\n",
        "```bash\n",
        "120\n",
        "```"
      ],
      "metadata": {
        "id": "pk_I_S4m3PT5"
      }
    },
    {
      "cell_type": "code",
      "source": [
        "# Write code here\n",
        "# Using while loop\n",
        "\n",
        "n = int(input('Enter number to calculate it\\'s factorial: '))\n",
        "factorial = 1\n",
        "i = 1\n",
        "while i <= n:\n",
        "  factorial = factorial * i\n",
        "  i += 1\n",
        "\n",
        "print('Factorial for number {} is equal to {}'.format(n,factorial))\n"
      ],
      "metadata": {
        "id": "lzXxHegx3Rkc",
        "outputId": "8da205cd-b575-4679-fde6-2358396d0e42",
        "colab": {
          "base_uri": "https://localhost:8080/"
        }
      },
      "execution_count": 3,
      "outputs": [
        {
          "output_type": "stream",
          "name": "stdout",
          "text": [
            "Enter number to calculate it's factorial: 16\n",
            "Factorial for number 16 is equal to 20922789888000\n"
          ]
        }
      ]
    },
    {
      "cell_type": "code",
      "source": [
        "# Using for loop\n",
        "\n",
        "n = int(input('Enter number to calculate it\\'s factorial: '))\n",
        "factorial = 1\n",
        "for i in range(1,n+1):\n",
        "  factorial = factorial * i\n",
        "\n",
        "print('Factorial for number {} is equal to {}'.format(n,factorial))"
      ],
      "metadata": {
        "id": "Bgh98lG4hYFC",
        "outputId": "c013e9fb-8e6e-4205-b144-b10d41bdceb7",
        "colab": {
          "base_uri": "https://localhost:8080/"
        }
      },
      "execution_count": 5,
      "outputs": [
        {
          "output_type": "stream",
          "name": "stdout",
          "text": [
            "Enter number to calculate it's factorial: 16\n",
            "Factorial for number 16 is equal to 20922789888000\n"
          ]
        }
      ]
    },
    {
      "cell_type": "markdown",
      "source": [
        "### `Problem 7` - Reverse a given integer number.\n",
        "\n",
        "Example:\n",
        "\n",
        "`Input:`\n",
        "\n",
        "```bash\n",
        "76542\n",
        "```\n",
        "\n",
        "`Output:`\n",
        "\n",
        "```bash\n",
        "24567\n",
        "```"
      ],
      "metadata": {
        "id": "-17IOi-g3UpU"
      }
    },
    {
      "cell_type": "code",
      "source": [
        "# Write code here\n",
        "\n",
        "n = input('Enter integer: ')\n",
        "\n",
        "reverse_n = int(n[::-1])\n",
        "\n",
        "print('The reverse of the integer {} is {}'.format(n,reverse_n))"
      ],
      "metadata": {
        "id": "wJwLpKCr3aVA",
        "outputId": "453e2e5c-5591-45ee-ffb5-e1a5fc2ef90a",
        "colab": {
          "base_uri": "https://localhost:8080/"
        }
      },
      "execution_count": 8,
      "outputs": [
        {
          "output_type": "stream",
          "name": "stdout",
          "text": [
            "Enter integer: 1234567\n",
            "The reverse of the integer 1234567 is 7654321\n"
          ]
        }
      ]
    },
    {
      "cell_type": "markdown",
      "source": [
        "### `Problem 8`: Take a user input as integer N. Find out the sum from 1 to N. If any number if divisible by 5, then skip that number. And if the sum is greater than 300, don't need to calculate the sum further more. Print the final result. And don't use for loop to solve this problem.\n",
        "\n",
        "**Example 1:**\n",
        "\n",
        "`Input:`\n",
        "\n",
        "```bash\n",
        "30\n",
        "```\n",
        "\n",
        "`Output:`\n",
        "\n",
        "```bash\n",
        "276\n",
        "```"
      ],
      "metadata": {
        "id": "-t8PJQaY3sHf"
      }
    },
    {
      "cell_type": "code",
      "source": [
        "# Write code here\n",
        "\n",
        "n = int(input('Enter integer: '))\n",
        "\n",
        "sum = 0\n",
        "i = 1\n",
        "while i <= n:\n",
        "  if (i % 5 != 0 and sum < 300):\n",
        "    sum = sum + i\n",
        "  i = i + 1\n",
        "\n",
        "\n",
        "print('The total sum from 1 to {} excluding the numbers divisible by 5 is {}'.format(n,sum))"
      ],
      "metadata": {
        "id": "GZB6mGMP3ujT",
        "outputId": "8f8c4c7e-b256-4b20-8121-a06a1eec112b",
        "colab": {
          "base_uri": "https://localhost:8080/"
        }
      },
      "execution_count": 68,
      "outputs": [
        {
          "output_type": "stream",
          "name": "stdout",
          "text": [
            "Enter integer: 30\n",
            "The total sum from 1 to 30 excluding the numbers divisible by 5 is 303\n"
          ]
        }
      ]
    },
    {
      "cell_type": "code",
      "source": [
        "# Using break statement\n",
        "\n",
        "N = int(input(\"Enter an integer N: \"))\n",
        "\n",
        "total_sum = 0\n",
        "i = 1\n",
        "\n",
        "while i <= N:\n",
        "    if i % 5 != 0:  # Skip numbers divisible by 5\n",
        "        total_sum += i\n",
        "        if total_sum > 300:  # Check if sum exceeds 300\n",
        "            break\n",
        "    i += 1\n",
        "\n",
        "print(\"The sum from 1 to {} excluding numbers divisible by 5 and sum greater than 300 is: {}\".format(N, total_sum))"
      ],
      "metadata": {
        "id": "Uvr34bzoVIWa",
        "outputId": "58398df6-da74-446a-e0bb-be2fcda167fa",
        "colab": {
          "base_uri": "https://localhost:8080/"
        }
      },
      "execution_count": 63,
      "outputs": [
        {
          "output_type": "stream",
          "name": "stdout",
          "text": [
            "Enter an integer N: 30\n",
            "The sum from 1 to 30 excluding numbers divisible by 5 and sum greater than 300 is: 303\n"
          ]
        }
      ]
    },
    {
      "cell_type": "code",
      "source": [
        "# Using break and continue statement\n",
        "\n",
        "N = int(input(\"Enter an integer N: \"))\n",
        "\n",
        "total_sum = 0\n",
        "i = 1\n",
        "\n",
        "while i <= N:\n",
        "    if i % 5 == 0:  # Check if number is divisible by 5\n",
        "        i += 1\n",
        "        continue  # Skip to next iteration if divisible by 5\n",
        "\n",
        "    total_sum += i\n",
        "    if total_sum > 300:  # Check if sum exceeds 300\n",
        "        break\n",
        "\n",
        "    i += 1\n",
        "\n",
        "print(\"The sum from 1 to {} excluding numbers divisible by 5 and sum greater than 300 is: {}\".format(N, total_sum))\n"
      ],
      "metadata": {
        "id": "bw7OL2O5YEZp",
        "outputId": "3ff81289-9989-4fc2-a194-ff5bb6434184",
        "colab": {
          "base_uri": "https://localhost:8080/"
        }
      },
      "execution_count": 61,
      "outputs": [
        {
          "output_type": "stream",
          "name": "stdout",
          "text": [
            "Enter an integer N: 30\n",
            "The sum from 1 to 30 excluding numbers divisible by 5 and sum greater than 300 is: 303\n"
          ]
        }
      ]
    },
    {
      "cell_type": "markdown",
      "source": [
        "### `Problem 9`: Write a program that keeps on accepting a number from the user until the user enters Zero. Display the sum and average of all the numbers.\n",
        "\n"
      ],
      "metadata": {
        "id": "Q7ggImeA3xm4"
      }
    },
    {
      "cell_type": "code",
      "source": [
        "# Write code here\n",
        "\n",
        "n = int(input('Enter the number: '))\n",
        "bucket = []\n",
        "count = 1\n",
        "while n != 0:\n",
        "  n = int(input('Enter the number: '))\n",
        "  bucket.append(n)\n",
        "  count = count + 1\n",
        "\n",
        "print(sum(bucket))\n",
        "print(sum(bucket)/count)"
      ],
      "metadata": {
        "id": "t_YDSZDe4Kdo",
        "outputId": "0d2339b4-ddda-4996-c11a-23562c693245",
        "colab": {
          "base_uri": "https://localhost:8080/",
          "height": 280
        }
      },
      "execution_count": 71,
      "outputs": [
        {
          "name": "stdout",
          "output_type": "stream",
          "text": [
            "Enter the number: 6\n",
            "Enter the number: 8\n",
            "Enter the number: 9\n",
            "Enter the number: 90\n",
            "Enter the number: 0\n"
          ]
        },
        {
          "output_type": "error",
          "ename": "TypeError",
          "evalue": "'int' object is not callable",
          "traceback": [
            "\u001b[0;31m---------------------------------------------------------------------------\u001b[0m",
            "\u001b[0;31mTypeError\u001b[0m                                 Traceback (most recent call last)",
            "\u001b[0;32m<ipython-input-71-673e9ca989bf>\u001b[0m in \u001b[0;36m<cell line: 11>\u001b[0;34m()\u001b[0m\n\u001b[1;32m      9\u001b[0m   \u001b[0mcount\u001b[0m \u001b[0;34m=\u001b[0m \u001b[0mcount\u001b[0m \u001b[0;34m+\u001b[0m \u001b[0;36m1\u001b[0m\u001b[0;34m\u001b[0m\u001b[0;34m\u001b[0m\u001b[0m\n\u001b[1;32m     10\u001b[0m \u001b[0;34m\u001b[0m\u001b[0m\n\u001b[0;32m---> 11\u001b[0;31m \u001b[0mprint\u001b[0m\u001b[0;34m(\u001b[0m\u001b[0msum\u001b[0m\u001b[0;34m(\u001b[0m\u001b[0mbucket\u001b[0m\u001b[0;34m)\u001b[0m\u001b[0;34m)\u001b[0m\u001b[0;34m\u001b[0m\u001b[0;34m\u001b[0m\u001b[0m\n\u001b[0m\u001b[1;32m     12\u001b[0m \u001b[0mprint\u001b[0m\u001b[0;34m(\u001b[0m\u001b[0msum\u001b[0m\u001b[0;34m(\u001b[0m\u001b[0mbucket\u001b[0m\u001b[0;34m)\u001b[0m\u001b[0;34m/\u001b[0m\u001b[0mcount\u001b[0m\u001b[0;34m)\u001b[0m\u001b[0;34m\u001b[0m\u001b[0;34m\u001b[0m\u001b[0m\n",
            "\u001b[0;31mTypeError\u001b[0m: 'int' object is not callable"
          ]
        }
      ]
    },
    {
      "cell_type": "markdown",
      "source": [
        "###`Problem 9`: Write a program which will find all such numbers which are divisible by 7 but are not a multiple of 5, between 2000 and 3200 (both included). The numbers obtained s3"
      ],
      "metadata": {
        "id": "6EhvEMvm4R7s"
      }
    },
    {
      "cell_type": "code",
      "source": [
        "# Write code here"
      ],
      "metadata": {
        "id": "d6RgP1B34T6c"
      },
      "execution_count": null,
      "outputs": []
    },
    {
      "cell_type": "markdown",
      "source": [
        "###`Problem 10`: Write a program, which will find all such numbers between 1000 and 3000 (both included) such that each digit of the number is an even number. The numbers obtained should be printed in a space-separated sequence on a single line.\n",
        "\n"
      ],
      "metadata": {
        "id": "tYvmRR-G4Vp4"
      }
    },
    {
      "cell_type": "code",
      "source": [
        "# Write code here"
      ],
      "metadata": {
        "id": "k6Gs1kIf4k19"
      },
      "execution_count": null,
      "outputs": []
    },
    {
      "cell_type": "markdown",
      "source": [
        "###`Problem 11`: A robot moves in a plane starting from the original point (0,0). The robot can move toward UP, DOWN, LEFT and RIGHT with a given steps.\n",
        "The trace of robot movement is shown as the following:\n",
        "```\n",
        "UP 5\n",
        "DOWN 3\n",
        "LEFT 3\n",
        "RIGHT 2\n",
        "!\n",
        "```\n",
        "> The numbers after the direction are steps.\n",
        "\n",
        "> `!` means robot stop there.\n",
        "\n",
        "**Please write a program to compute the distance from current position after a sequence of movement and original point.**\n",
        "\n",
        "*If the distance is a float, then just print the nearest integer.*\n",
        "\n",
        "Example:\n",
        "\n",
        "`Input`:\n",
        "```\n",
        "UP 5\n",
        "DOWN 3\n",
        "LEFT 3\n",
        "RIGHT 2\n",
        "!\n",
        "```\n",
        "`Output`:\n",
        "```\n",
        "2\n",
        "```"
      ],
      "metadata": {
        "id": "GV18IINT4mf5"
      }
    },
    {
      "cell_type": "code",
      "source": [
        "# Write code here"
      ],
      "metadata": {
        "id": "6UNMC2aR4w5x"
      },
      "execution_count": null,
      "outputs": []
    },
    {
      "cell_type": "markdown",
      "source": [
        "###`Problem 12`:Write a program to print whether a given number is a prime number or not"
      ],
      "metadata": {
        "id": "3fsAIAhK5GYY"
      }
    },
    {
      "cell_type": "code",
      "source": [
        "# Write code here"
      ],
      "metadata": {
        "id": "j6y91lxy5LZs"
      },
      "execution_count": null,
      "outputs": []
    },
    {
      "cell_type": "markdown",
      "source": [
        "###`Problem 13`:Print all the Armstrong numbers in a given range.\n",
        "Range will be provided by the user<br>\n",
        "Armstrong number is a number that is equal to the sum of cubes of its digits. For example 0, 1, 153, 370, 371 and 407 are the Armstrong numbers."
      ],
      "metadata": {
        "id": "asAbmbK-5NHv"
      }
    },
    {
      "cell_type": "code",
      "source": [
        "# Write code here"
      ],
      "metadata": {
        "id": "PZuI67pm5jCT"
      },
      "execution_count": null,
      "outputs": []
    },
    {
      "cell_type": "markdown",
      "source": [
        "###`Problem 14`:Calculate the angle between the hour hand and minute hand.\n",
        "\n",
        "Note: There can be two angles between hands; we need to print a minimum of two. Also, we need to print the floor of the final result angle. For example, if the final angle is 10.61, we need to print 10.\n",
        "\n",
        "Input:<br>\n",
        "H = 9 , M = 0<br>\n",
        "Output:<br>\n",
        "90<br>\n",
        "Explanation:<br>\n",
        "The minimum angle between hour and minute\n",
        "hand when the time is 9 is 90 degress."
      ],
      "metadata": {
        "id": "ClCQZMqT7gK0"
      }
    },
    {
      "cell_type": "code",
      "source": [
        "# Write code here"
      ],
      "metadata": {
        "id": "tNBTCZML7jy_"
      },
      "execution_count": null,
      "outputs": []
    },
    {
      "cell_type": "markdown",
      "source": [
        "###`Problem 15`:Given two rectangles, find if the given two rectangles overlap or not. A rectangle is denoted by providing the x and y coordinates of two points: the left top corner and the right bottom corner of the rectangle. Two rectangles sharing a side are considered overlapping. (L1 and R1 are the extreme points of the first rectangle and L2 and R2 are the extreme points of the second rectangle).\n",
        "\n",
        "Note: It may be assumed that the rectangles are parallel to the coordinate axis.\n",
        "\n",
        "<img src='https://www.geeksforgeeks.org/wp-content/uploads/rectanglesOverlap.png' width='300' height='200'>"
      ],
      "metadata": {
        "id": "GwacF9Co72Qc"
      }
    },
    {
      "cell_type": "code",
      "source": [
        "# Write code here"
      ],
      "metadata": {
        "id": "6rrw_lpH78Rs"
      },
      "execution_count": null,
      "outputs": []
    }
  ]
}