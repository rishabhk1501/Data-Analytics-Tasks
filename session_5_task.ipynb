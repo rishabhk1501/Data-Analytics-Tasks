{
  "nbformat": 4,
  "nbformat_minor": 0,
  "metadata": {
    "colab": {
      "provenance": [],
      "include_colab_link": true
    },
    "kernelspec": {
      "name": "python3",
      "display_name": "Python 3"
    },
    "language_info": {
      "name": "python"
    }
  },
  "cells": [
    {
      "cell_type": "markdown",
      "metadata": {
        "id": "view-in-github",
        "colab_type": "text"
      },
      "source": [
        "<a href=\"https://colab.research.google.com/github/rishabhk1501/Data-Analytics-Tasks/blob/main/session_5_task.ipynb\" target=\"_parent\"><img src=\"https://colab.research.google.com/assets/colab-badge.svg\" alt=\"Open In Colab\"/></a>"
      ]
    },
    {
      "cell_type": "markdown",
      "source": [
        "# Tuple\n"
      ],
      "metadata": {
        "id": "limD5IAfl-tz"
      }
    },
    {
      "cell_type": "markdown",
      "source": [
        "###`Q1:` Join Tuples if similar initial element\n",
        "While working with Python tuples, we can have a problem in which we need to perform concatenation of records from the similarity of initial element. This problem can have applications in data domains such as Data Science.\n",
        "\n",
        "For eg.\n",
        "```\n",
        "Input  : test_list = [(5, 6), (5, 7), (5, 8), (6, 10), (7, 13)]\n",
        "Output : [(5, 6, 7, 8), (6, 10), (7, 13)]\n",
        "```"
      ],
      "metadata": {
        "id": "nSTn3CjbmB7q"
      }
    },
    {
      "cell_type": "code",
      "source": [
        "# write your code here\n",
        "\n",
        "List = [(1, 2), (1, 3), (1, 4), (5, 6), (7, 8)]\n",
        "result = []\n",
        "L = []\n",
        "\n",
        "for i in List:\n",
        "  if i[0] not in L:\n",
        "    L.append(i[0])\n",
        "\n",
        "for i in L:\n",
        "  p = []\n",
        "  p.append(i)\n",
        "  for j in List:\n",
        "    if i == j[0]:\n",
        "      p.append(j[1])\n",
        "  result.append(p)\n",
        "\n",
        "print(list(map(tuple,result)))\n"
      ],
      "metadata": {
        "id": "hwVeEvH9rJzU",
        "colab": {
          "base_uri": "https://localhost:8080/"
        },
        "outputId": "ac479141-557b-40d1-c8f0-2b76777b471b"
      },
      "execution_count": null,
      "outputs": [
        {
          "output_type": "stream",
          "name": "stdout",
          "text": [
            "[(1, 2, 3, 4), (5, 6), (7, 8)]\n"
          ]
        }
      ]
    },
    {
      "cell_type": "markdown",
      "source": [
        "###`Q2:` Multiply Adjacent elements (both side) and take sum of right and left side multiplication result.\n",
        "\n",
        "\n",
        "For eg.\n",
        "```\n",
        "The original tuple : (1, 5, 7, 8, 10)\n",
        "Resultant tuple after multiplication :\n",
        "\n",
        "(1*5, 1*5+5*7, 7*5 + 7*8, 8*7 + 8*10, 10*8) -> (5, 40, 91, 136, 80)\n",
        "\n",
        "output-(5, 40, 91, 136, 80)\n",
        "```"
      ],
      "metadata": {
        "id": "ujQpZOFFmeha"
      }
    },
    {
      "cell_type": "code",
      "source": [
        "tuple1 = (1, 5, 7, 8, 10)\n",
        "\n",
        "result = []\n",
        "\n",
        "for i in range(len(tuple1)):\n",
        "  if i == 0:\n",
        "    result.append((tuple1[i]*tuple1[i+1]))\n",
        "  elif i == (len(tuple1)-1):\n",
        "    result.append((tuple1[i]*tuple1[i-1]))\n",
        "  else:\n",
        "    result.append((tuple1[i]*tuple1[i-1]) + (tuple1[i]*tuple1[i+1]))\n",
        "\n",
        "print(tuple(result))"
      ],
      "metadata": {
        "colab": {
          "base_uri": "https://localhost:8080/"
        },
        "id": "eArxqYFhnp_h",
        "outputId": "3fe2731f-f45a-437b-ba08-5b2da86fe73a"
      },
      "execution_count": null,
      "outputs": [
        {
          "output_type": "stream",
          "name": "stdout",
          "text": [
            "(5, 40, 91, 136, 80)\n"
          ]
        }
      ]
    },
    {
      "cell_type": "markdown",
      "source": [
        "###`Q3`: Check if tuples are same or not?\n",
        "Two tuples would be same if both tuples have same element at same index\n",
        "```\n",
        "t1 = (1,2,3,0)\n",
        "t2 = (0,1,2,3)\n",
        "\n",
        "t1 and t2 are not same\n",
        "```"
      ],
      "metadata": {
        "id": "x0psnUiu2ZVp"
      }
    },
    {
      "cell_type": "code",
      "source": [
        "# write your code here\n",
        "\n",
        "t1 = (1,2,3,0)\n",
        "t2 = (0,1,2,3)\n",
        "count = 0\n",
        "for x, y in list(zip(t1,t2)):\n",
        "  if (len(t1) == len(t2) and x == y):\n",
        "    count = count + 1\n",
        "\n",
        "if count == len(t1) == len(t2):\n",
        "  print('Tuples are same')\n",
        "else:\n",
        "  print('Tuples are not same')"
      ],
      "metadata": {
        "id": "JMVw9EhSrPEc",
        "colab": {
          "base_uri": "https://localhost:8080/"
        },
        "outputId": "e27bd2b3-a2e1-441c-8f7d-5dde9f7576a0"
      },
      "execution_count": null,
      "outputs": [
        {
          "output_type": "stream",
          "name": "stdout",
          "text": [
            "Tuples are not same\n"
          ]
        }
      ]
    },
    {
      "cell_type": "code",
      "source": [
        "t1 = (1,2,3,4)\n",
        "t2 = (1,2,3,5)\n",
        "count = 0\n",
        "for x, y in list(zip(t1,t2)):\n",
        "  if (len(t1) == len(t2) and x == y):\n",
        "    count = count + 1\n",
        "\n",
        "if count == len(t1) == len(t2):\n",
        "  print('Tuples are same')\n",
        "else:\n",
        "  print('Tuples are not same')\n",
        "\n",
        "if type(t1) == tuple:\n",
        "  print(True)\n",
        "else:\n",
        "  print(False)"
      ],
      "metadata": {
        "colab": {
          "base_uri": "https://localhost:8080/"
        },
        "id": "y459wjptydFw",
        "outputId": "57dc7f96-2d96-4332-cf89-a38da16f978c"
      },
      "execution_count": null,
      "outputs": [
        {
          "output_type": "stream",
          "name": "stdout",
          "text": [
            "Tuples are not same\n",
            "True\n"
          ]
        }
      ]
    },
    {
      "cell_type": "markdown",
      "source": [
        "###`Q4`: Count no of tuples, list and set from a list\n",
        "```\n",
        "list1 = [{'hi', 'bye'},{'Geeks', 'forGeeks'},('a', 'b'),['hi', 'bye'],['a', 'b']]\n",
        "\n",
        "```\n",
        "`Output:`\n",
        "\n",
        "```\n",
        "List-2\n",
        "Set-2\n",
        "Tuples-1\n",
        "```"
      ],
      "metadata": {
        "id": "aZ4rObHK4fCN"
      }
    },
    {
      "cell_type": "code",
      "source": [
        "# write your code here\n",
        "\n",
        "list1 = [{'hi', 'bye'},{'Geeks', 'forGeeks'},('a', 'b'),['hi', 'bye'],['a', 'b']]\n",
        "\n",
        "tuple_count = 0\n",
        "list_count = 0\n",
        "set_count = 0\n",
        "\n",
        "for i in list1:\n",
        "  if type(i) == tuple:\n",
        "    tuple_count += 1\n",
        "  elif type(i) == list:\n",
        "    list_count += 1\n",
        "  elif type(i) == set:\n",
        "    set_count += 1\n",
        "\n",
        "print('Tuple count:', tuple_count)\n",
        "print('List count:', list_count)\n",
        "print('Set count:', set_count)"
      ],
      "metadata": {
        "id": "g_Bnuczk69tG",
        "colab": {
          "base_uri": "https://localhost:8080/"
        },
        "outputId": "e2d26a06-4725-4949-d5b9-66c846406798"
      },
      "execution_count": null,
      "outputs": [
        {
          "output_type": "stream",
          "name": "stdout",
          "text": [
            "Tuple count: 1\n",
            "List count: 2\n",
            "Set count: 2\n"
          ]
        }
      ]
    },
    {
      "cell_type": "markdown",
      "source": [
        "###`Q5`: Shortlist Students for a Job role\n",
        "Ask user to input students record and store in tuples for each record. Then Ask user to input three things he wants in the candidate- Primary Skill, Higher Education, Year of Graduation.\n",
        "\n",
        "Show every students record in form of tuples if matches all required criteria.\n",
        "\n",
        "It is assumed that there will be only one primry skill.\n",
        "\n",
        "If no such candidate found, print `No such candidate`\n",
        "\n",
        "`Input:`\n",
        "```\n",
        "Enter No of records- 2\n",
        "Enter Details of student-1\n",
        "Enter Student name- Manohar\n",
        "Enter Higher Education- B.Tech\n",
        "Enter Primary Skill- Python\n",
        "Enter Year of Graduation- 2022\n",
        "Enter Details of student-2\n",
        "Enter Student name- Ponian\n",
        "Enter Higher Education- B.Sc.\n",
        "Enter Primary Skill- C++\n",
        "Enter Year of Graduation- 2020\n",
        "\n",
        "Enter Job Role Requirement\n",
        "Enter Skill- Python\n",
        "Enter Higher Education- B.Tech\n",
        "Enter Year of Graduation- 2022\n",
        "```\n",
        "\n",
        "`Output`\n",
        "```\n",
        "('Manohar', 'B.tech', 'Python', '2022')\n",
        "```\n"
      ],
      "metadata": {
        "id": "jInFNuit8hf1"
      }
    },
    {
      "cell_type": "code",
      "source": [
        "# write your code here\n",
        "\n",
        "total_records = int(input('Enter No of records: '))\n",
        "L = []\n",
        "\n",
        "for i in range(1,total_records+1):\n",
        "\n",
        "  M = []\n",
        "  print('Enter details of student-{}'.format(i))\n",
        "  name = input('Enter Student name- ')\n",
        "  education = input('Enter Higher Education- ')\n",
        "  skill = input('Enter Primary Skill- ')\n",
        "  grad_year = int(input('Enter Year of Graduation- '))\n",
        "  D = [name,education,skill,grad_year]\n",
        "  M.extend(D)\n",
        "  L.append(tuple(M))\n",
        "\n",
        "print('Enter Job Role Requirement')\n",
        "s = input('Enter Skill- ')\n",
        "e = input('Enter Higher education- ')\n",
        "y = int(input('Enter Year of Graduation- '))\n",
        "count = 0\n",
        "print()\n",
        "print()\n",
        "for i in L:\n",
        "  if (i[1] == e and i[2] == s and i[3] == y):\n",
        "    print(i)\n",
        "    count += 1\n",
        "  elif count == 0:\n",
        "    print('No such candidate')\n"
      ],
      "metadata": {
        "id": "erh9QZaerSHk",
        "colab": {
          "base_uri": "https://localhost:8080/"
        },
        "outputId": "088a71e6-e70a-435b-e1f6-910bc7ce6ba6"
      },
      "execution_count": null,
      "outputs": [
        {
          "output_type": "stream",
          "name": "stdout",
          "text": [
            "Enter No of records: 3\n",
            "Enter details of student-1\n",
            "Enter Student name- Manohar\n",
            "Enter Higher Education- B.Tech\n",
            "Enter Primary Skill- Python\n",
            "Enter Year of Graduation- 2022\n",
            "Enter details of student-2\n",
            "Enter Student name- Ponian\n",
            "Enter Higher Education- B.Sc.\n",
            "Enter Primary Skill- C++\n",
            "Enter Year of Graduation- 2020\n",
            "Enter details of student-3\n",
            "Enter Student name- Rahul\n",
            "Enter Higher Education- B.Tech\n",
            "Enter Primary Skill- Python\n",
            "Enter Year of Graduation- 2022\n",
            "Enter Job Role Requirement\n",
            "Enter Skill- Python\n",
            "Enter Higher education- B.Tech\n",
            "Enter Year of Graduation- 2022\n",
            "\n",
            "\n",
            "('Manohar', 'B.Tech', 'Python', 2022)\n",
            "('Rahul', 'B.Tech', 'Python', 2022)\n"
          ]
        }
      ]
    },
    {
      "cell_type": "code",
      "source": [
        "a = [1,2,3]\n",
        "L = []\n",
        "L.append(a)\n",
        "print(L)"
      ],
      "metadata": {
        "colab": {
          "base_uri": "https://localhost:8080/"
        },
        "id": "IJliKsNoRmAl",
        "outputId": "381d9736-b9e4-4661-8145-a69499c8edf8"
      },
      "execution_count": null,
      "outputs": [
        {
          "output_type": "stream",
          "name": "stdout",
          "text": [
            "[[1, 2, 3]]\n"
          ]
        }
      ]
    },
    {
      "cell_type": "markdown",
      "source": [
        "# Set"
      ],
      "metadata": {
        "id": "l4hLvwD2BeIN"
      }
    },
    {
      "cell_type": "markdown",
      "source": [
        "###`Q1:` Write a program to find set of common elements in three lists using sets.\n",
        "```\n",
        "Input : ar1 = [1, 5, 10, 20, 40, 80]\n",
        "        ar2 = [6, 7, 20, 80, 100]\n",
        "        ar3 = [3, 4, 15, 20, 30, 70, 80, 120]\n",
        "\n",
        "Output : [80, 20]\n",
        "```"
      ],
      "metadata": {
        "id": "zCX0Sk2IBfu8"
      }
    },
    {
      "cell_type": "code",
      "source": [
        "# write your code here\n",
        "\n",
        "ar1 = [1, 5, 10, 20, 40, 80]\n",
        "ar2 = [6, 7, 20, 80, 100]\n",
        "ar3 = [3, 4, 15, 20, 30, 70, 80, 120]\n",
        "\n",
        "\n",
        "print(list(set(ar1) & set(ar2) & set(ar2)))"
      ],
      "metadata": {
        "id": "rqATYpBUrUQU",
        "colab": {
          "base_uri": "https://localhost:8080/"
        },
        "outputId": "8122e899-cc1e-490c-ca58-ea37a7266000"
      },
      "execution_count": null,
      "outputs": [
        {
          "output_type": "stream",
          "name": "stdout",
          "text": [
            "[80, 20]\n"
          ]
        }
      ]
    },
    {
      "cell_type": "markdown",
      "source": [
        "###`Q2:` Write a program to count unique number of vowels using sets in a given string. Lowercase and upercase vowels will be taken as different.\n",
        "\n",
        "`Input:`\n",
        "```\n",
        "Str1 = \"hands-on data science mentorship progrAm with live classes at affordable fee only on CampusX\"\n",
        "```\n",
        "`Output:`\n",
        "```\n",
        "No of unique vowels-6\n",
        "```"
      ],
      "metadata": {
        "id": "0gOVS-0yCYrK"
      }
    },
    {
      "cell_type": "code",
      "source": [
        "# write your code here\n",
        "Str1 = \"hands-on data science mentorship progrAm with live classes at affordable fee only on CampusX\"\n",
        "count = 0\n",
        "for i in set(Str1):\n",
        "  if i in ['a','e','i','o','u','A','E','I','O','U']:\n",
        "    count += 1\n",
        "\n",
        "print('Number of unique vowels: {}'.format(count))\n",
        "\n"
      ],
      "metadata": {
        "id": "0vAlEAOzDihm",
        "colab": {
          "base_uri": "https://localhost:8080/"
        },
        "outputId": "3c062b90-838d-4875-e325-ecbb2b97f99b"
      },
      "execution_count": null,
      "outputs": [
        {
          "output_type": "stream",
          "name": "stdout",
          "text": [
            "Number of unique vowels: 6\n"
          ]
        }
      ]
    },
    {
      "cell_type": "markdown",
      "source": [
        "### `Q3:` Write a program to Check if a given string is binary string of or not.\n",
        "\n",
        "A string is said to be binary if it's consists of only two unique characters.\n",
        "\n",
        "Take string input from user.\n",
        "\n",
        "```\n",
        "Input: str = \"01010101010\"\n",
        "Output: Yes\n",
        "\n",
        "Input: str = \"1222211\"\n",
        "Output: Yes\n",
        "\n",
        "Input: str = \"Campusx\"\n",
        "Output: No\n",
        "```"
      ],
      "metadata": {
        "id": "fqLZxiarEne5"
      }
    },
    {
      "cell_type": "code",
      "source": [
        "# write your code here\n",
        "\n",
        "\n",
        "str1 = input('Enter string: ')\n",
        "\n",
        "if len(set(str1)) == 2:\n",
        "  print('String is binary')\n",
        "else:\n",
        "  print('String is not binary')\n"
      ],
      "metadata": {
        "id": "5M5v8LoYrXkE",
        "colab": {
          "base_uri": "https://localhost:8080/"
        },
        "outputId": "d76f3fc4-bfa6-42ee-f229-33934b9e8474"
      },
      "execution_count": null,
      "outputs": [
        {
          "output_type": "stream",
          "name": "stdout",
          "text": [
            "Enter string: 0101010101011100\n",
            "String is binary\n"
          ]
        }
      ]
    },
    {
      "cell_type": "markdown",
      "source": [
        "### `Q4`: find union of n arrays.\n",
        "\n",
        "**Example 1:**\n",
        "\n",
        "Input:\n",
        "```bash\n",
        "[[1, 2, 2, 4, 3, 6],\n",
        " [5, 1, 3, 4],\n",
        " [9, 5, 7, 1],\n",
        " [2, 4, 1, 3]]\n",
        "```\n",
        "\n",
        "Output:\n",
        "\n",
        "```bash\n",
        "[1, 2, 3, 4, 5, 6, 7, 9]\n",
        "```"
      ],
      "metadata": {
        "id": "xXS8wYH1mDqx"
      }
    },
    {
      "cell_type": "code",
      "source": [
        "# write your code here\n",
        "array = [[1, 2, 2, 4, 3, 6],\n",
        " [5, 1, 3, 4],\n",
        " [9, 5, 7, 1],\n",
        " [2, 4, 1, 3]]\n",
        "\n",
        "\n",
        "set1 = set()\n",
        "\n",
        "for i in array:\n",
        "  set1.update(i)\n",
        "\n",
        "print(list(set1))"
      ],
      "metadata": {
        "id": "FVNyK6MbncU8",
        "colab": {
          "base_uri": "https://localhost:8080/"
        },
        "outputId": "494e1db2-3784-4d0e-d275-7531e4cb58be"
      },
      "execution_count": null,
      "outputs": [
        {
          "output_type": "stream",
          "name": "stdout",
          "text": [
            "[1, 2, 3, 4, 5, 6, 7, 9]\n"
          ]
        }
      ]
    },
    {
      "cell_type": "markdown",
      "source": [
        "### `Q5`: Intersection of two lists. Intersection of two list means we need to take all those elements which are common to both of the initial lists and store them into another list. Only use using **list-comprehension**.\n",
        "\n",
        "**Example 1:**\n",
        "\n",
        "Input:\n",
        "```bash\n",
        "lst1 = {15, 9, 10, 56, 23, 78, 5, 4, 9}\n",
        "lst2 = {9, 4, 5, 36, 47, 26, 10, 45, 87}\n",
        "```\n",
        "\n",
        "Output:\n",
        "```bash\n",
        "[9, 10, 4, 5]\n",
        "```\n",
        "\n",
        "**Example 2:**\n",
        "\n",
        "Input:\n",
        "```bash\n",
        "lst1 = {4, 9, 1, 17, 11, 26, 28, 54, 69}\n",
        "lst2 = {9, 9, 74, 21, 45, 11, 63, 28, 26}\n",
        "```\n",
        "\n",
        "Output:\n",
        "```bash\n",
        "[9, 11, 26, 28]\n",
        "```"
      ],
      "metadata": {
        "id": "T_Re21BdndOz"
      }
    },
    {
      "cell_type": "code",
      "source": [
        "# write your code here\n",
        "\n",
        "lst1 = {15, 9, 10, 56, 23, 78, 5, 4, 9}\n",
        "lst2 = {9, 4, 5, 36, 47, 26, 10, 45, 87}\n",
        "\n",
        "L = [i for i in lst1 if i in lst2]\n",
        "print(L)\n"
      ],
      "metadata": {
        "id": "nWnL25ftoLVT",
        "colab": {
          "base_uri": "https://localhost:8080/"
        },
        "outputId": "16e3aedc-0ba7-420f-ddb8-e808bd8d7bd8"
      },
      "execution_count": null,
      "outputs": [
        {
          "output_type": "stream",
          "name": "stdout",
          "text": [
            "[4, 5, 9, 10]\n"
          ]
        }
      ]
    },
    {
      "cell_type": "code",
      "source": [
        "lst1 = {4, 9, 1, 17, 11, 26, 28, 54, 69}\n",
        "lst2 = {9, 9, 74, 21, 45, 11, 63, 28, 26}\n",
        "\n",
        "L = [i for i in lst1 if i in lst2]\n",
        "print(L)"
      ],
      "metadata": {
        "id": "mJtZllY58AIv",
        "outputId": "e58836a4-d852-4835-9fb0-5bf0fb5c588b",
        "colab": {
          "base_uri": "https://localhost:8080/"
        }
      },
      "execution_count": null,
      "outputs": [
        {
          "output_type": "stream",
          "name": "stdout",
          "text": [
            "[9, 11, 26, 28]\n"
          ]
        }
      ]
    },
    {
      "cell_type": "markdown",
      "source": [
        "# Dictionary"
      ],
      "metadata": {
        "id": "tD2RSYn1a8oA"
      }
    },
    {
      "cell_type": "markdown",
      "source": [
        "### `Q1`: Key with maximum unique values\n",
        "\n",
        "Given a dictionary with values list, extract key whose value has most unique values.\n",
        "\n",
        "**Example 1:**\n",
        "\n",
        "Input:\n",
        "\n",
        "```bash\n",
        "test_dict = {\"CampusX\" : [5, 7, 9, 4, 0], \"is\" : [6, 7, 4, 3, 3], \"Best\" : [9, 9, 6, 5, 5]}\n",
        "```\n",
        "\n",
        "Output:\n",
        "```bash\n",
        "CampusX\n",
        "```\n",
        "\n",
        "**Example 2:**\n",
        "\n",
        "Input:\n",
        "```bash\n",
        "test_dict = {\"CampusX\" : [5, 7, 7, 7, 7], \"is\" : [6, 7, 7, 7], \"Best\" : [9, 9, 6, 5, 5]}\n",
        "```\n",
        "\n",
        "Output:\n",
        "```bash\n",
        "Best\n",
        "```"
      ],
      "metadata": {
        "id": "7tUjHhcPbQzQ"
      }
    },
    {
      "cell_type": "code",
      "source": [
        "# write your code here\n",
        "\n",
        "test_dict = {\"CampusX\" : [5, 7, 9, 4, 0], \"is\" : [6, 7, 4, 3, 3], \"Best\" : [9, 9, 6, 5, 5]}\n",
        "Len = {}\n",
        "for i in test_dict:\n",
        "  Len[i] = len(set(test_dict[i]))\n",
        "\n",
        "for i,j in Len.items():\n",
        "  if j == max(Len.values()):\n",
        "    print(i)"
      ],
      "metadata": {
        "id": "N8KHX863lNxL",
        "colab": {
          "base_uri": "https://localhost:8080/"
        },
        "outputId": "6d810d20-8dd9-406d-d9fb-978d311d6cff"
      },
      "execution_count": null,
      "outputs": [
        {
          "output_type": "stream",
          "name": "stdout",
          "text": [
            "CampusX\n"
          ]
        }
      ]
    },
    {
      "cell_type": "code",
      "source": [
        "test_dict = {\"CampusX\" : [5, 7, 7, 7, 7], \"is\" : [6, 7, 7, 7], \"Best\" : [9, 9, 6, 5, 5]}\n",
        "Len = {}\n",
        "for i in test_dict:\n",
        "  Len[i] = len(set(test_dict[i]))\n",
        "\n",
        "for i,j in Len.items():\n",
        "  if j == max(Len.values()):\n",
        "    print(i)"
      ],
      "metadata": {
        "colab": {
          "base_uri": "https://localhost:8080/"
        },
        "id": "9170G4tpAqRF",
        "outputId": "794cf655-9bd2-4c22-f601-db9ab54ceb6b"
      },
      "execution_count": null,
      "outputs": [
        {
          "output_type": "stream",
          "name": "stdout",
          "text": [
            "Best\n"
          ]
        }
      ]
    },
    {
      "cell_type": "markdown",
      "source": [
        "### `Q2`: Replace words from Dictionary. Given String, replace it’s words from lookup dictionary.\n",
        "\n",
        "**Example 1:**\n",
        "\n",
        "Input:\n",
        "\n",
        "```bash\n",
        "test_str = 'CampusX best for DS students.'\n",
        "repl_dict = {\"best\" : \"is the best channel\", \"DS\" : \"Data-Science\"}\n",
        "```\n",
        "\n",
        "Output:\n",
        "\n",
        "```bash\n",
        "CampusX is the best channel for Data-Science students.\n",
        "```\n",
        "\n",
        "**Example 2:**\n",
        "\n",
        "Input:\n",
        "```bash\n",
        "test_str = 'CampusX best for DS students.'\n",
        "repl_dict = {\"good\" : \"is the best channel\", \"ds\" : \"Data-Science\"}\n",
        "```\n",
        "\n",
        "Output:\n",
        "```bash\n",
        "CampusX best for DS students.\n",
        "```"
      ],
      "metadata": {
        "id": "_S5X6C84dWdJ"
      }
    },
    {
      "cell_type": "code",
      "source": [
        "# write your code here\n",
        "\n",
        "test_str = 'CampusX best for DS students.'\n",
        "repl_dict = {\"best\" : \"is the best channel\", \"DS\" : \"Data-Science\"}\n",
        "L = test_str.split()\n",
        "for i in range(len(L)):\n",
        "  if L[i] in repl_dict:\n",
        "    L[i] = repl_dict[L[i]]\n",
        "\n",
        "string = ' '.join(L)\n",
        "\n",
        "print(string)"
      ],
      "metadata": {
        "id": "BTAQ8qnrlOxr",
        "colab": {
          "base_uri": "https://localhost:8080/"
        },
        "outputId": "629c1e14-a17f-4ef4-9c9f-fee54993b7b4"
      },
      "execution_count": null,
      "outputs": [
        {
          "output_type": "stream",
          "name": "stdout",
          "text": [
            "CampusX is the best channel for Data-Science students.\n"
          ]
        }
      ]
    },
    {
      "cell_type": "code",
      "source": [
        "test_str = 'CampusX best for DS students.'\n",
        "repl_dict = {\"good\" : \"is the best channel\", \"ds\" : \"Data-Science\"}\n",
        "L = test_str.split()\n",
        "for i in range(len(L)):\n",
        "  if L[i] in repl_dict:\n",
        "    L[i] = repl_dict[L[i]]\n",
        "\n",
        "string = ' '.join(L)\n",
        "\n",
        "print(string)"
      ],
      "metadata": {
        "id": "0JoL2q_IgC2E",
        "outputId": "41d1a81e-fb81-4c86-9268-eb1b0630f394",
        "colab": {
          "base_uri": "https://localhost:8080/"
        }
      },
      "execution_count": null,
      "outputs": [
        {
          "output_type": "stream",
          "name": "stdout",
          "text": [
            "CampusX best for DS students.\n"
          ]
        }
      ]
    },
    {
      "cell_type": "markdown",
      "source": [
        "### `Q3`: Convert List to List of dictionaries. Given list values and keys list, convert these values to key value pairs in form of list of dictionaries.\n",
        "\n",
        "**Example 1:**\n",
        "\n",
        "Input:\n",
        "```bash\n",
        "test_list = [\"DataScience\", 3, \"is\", 8]\n",
        "key_list = [\"name\", \"id\"]\n",
        "```\n",
        "\n",
        "Output:\n",
        "\n",
        "```bash\n",
        "[{'name': 'DataScience', 'id': 3}, {'name': 'is', 'id': 8}]\n",
        "```\n",
        "\n",
        "**Example 2:**\n",
        "\n",
        "Input:\n",
        "```bash\n",
        "test_list = [\"CampusX\", 10]\n",
        "key_list = [\"name\", \"id\"]\n",
        "```\n",
        "\n",
        "Output:\n",
        "\n",
        "```bash\n",
        "[{'name': 'CampusX', 'id': 10}]\n",
        "```"
      ],
      "metadata": {
        "id": "55xgap3zfbcR"
      }
    },
    {
      "cell_type": "code",
      "source": [
        "# write your code here\n",
        "\n",
        "test_list = [\"DataScience\", 3, 2001, \"is\", 8, 2009, 'datatypes', 14, 2005, 'datastructures', 31, 2003]\n",
        "key_list = [\"name\", \"id\", 'year']\n",
        "\n",
        "L = []\n",
        "for i in range(len(test_list)//len(key_list)):\n",
        "  L.append({})\n",
        "  for j in range(len(key_list)):\n",
        "    L[i][key_list[j]] = test_list[(i*len(key_list) + j)]\n",
        "\n",
        "print(L)"
      ],
      "metadata": {
        "id": "jbCajI87lQFr",
        "colab": {
          "base_uri": "https://localhost:8080/"
        },
        "outputId": "2a34046e-1349-4094-f399-18d4110243ff"
      },
      "execution_count": 29,
      "outputs": [
        {
          "output_type": "stream",
          "name": "stdout",
          "text": [
            "[{'name': 'DataScience', 'id': 3, 'year': 2001}, {'name': 'is', 'id': 8, 'year': 2009}, {'name': 'datatypes', 'id': 14, 'year': 2005}, {'name': 'datastructures', 'id': 31, 'year': 2003}]\n"
          ]
        }
      ]
    },
    {
      "cell_type": "markdown",
      "source": [
        "### `Q4`: Convert a list of Tuples into Dictionary.\n",
        "\n",
        "**Example 1:**\n",
        "\n",
        "Input:\n",
        "```bash\n",
        "[(\"akash\", 10), (\"gaurav\", 12), (\"anand\", 14), (\"suraj\", 20), (\"akhil\", 25), (\"ashish\", 30)]\n",
        "```\n",
        "\n",
        "Output:\n",
        "```bash\n",
        "{'akash': [10], 'gaurav': [12], 'anand': [14], 'suraj': [20], 'akhil': [25], 'ashish': [30]}\n",
        "```\n",
        "\n",
        "**Example 2:**\n",
        "\n",
        "Input:\n",
        "```bash\n",
        "[('A', 1), ('B', 2), ('C', 3)]\n",
        "```\n",
        "\n",
        "Output:\n",
        "```bash\n",
        "{'A': [1], 'B': [2], 'C': [3]}\n",
        "```"
      ],
      "metadata": {
        "id": "5RxBlLQahLkB"
      }
    },
    {
      "cell_type": "code",
      "source": [
        "# write your code here\n",
        "\n",
        "input = [('A', 1), ('B', 2), ('C', 3)]\n",
        "\n",
        "d = {i[0]:([i[1]]) for i in input}\n",
        "print(d)"
      ],
      "metadata": {
        "id": "f1yz7inMlQ5N",
        "colab": {
          "base_uri": "https://localhost:8080/"
        },
        "outputId": "7e342586-207c-4437-dfd2-b4e78becd0c8"
      },
      "execution_count": 40,
      "outputs": [
        {
          "output_type": "stream",
          "name": "stdout",
          "text": [
            "{'A': [1], 'B': [2], 'C': [3]}\n"
          ]
        }
      ]
    },
    {
      "cell_type": "code",
      "source": [
        "input = [(\"akash\", 10), (\"gaurav\", 12), (\"anand\", 14), (\"suraj\", 20), (\"akhil\", 25), (\"ashish\", 30)]\n",
        "\n",
        "d = {i[0]:([i[1]]) for i in input}\n",
        "print(d)"
      ],
      "metadata": {
        "colab": {
          "base_uri": "https://localhost:8080/"
        },
        "id": "fG6sNQPKf_8Z",
        "outputId": "19812054-b5c4-4281-9053-427ae29302ee"
      },
      "execution_count": 39,
      "outputs": [
        {
          "output_type": "stream",
          "name": "stdout",
          "text": [
            "{'akash': [10], 'gaurav': [12], 'anand': [14], 'suraj': [20], 'akhil': [25], 'ashish': [30]}\n"
          ]
        }
      ]
    },
    {
      "cell_type": "markdown",
      "source": [
        "### `Q5`: Sort Dictionary key and values List.\n",
        "\n",
        "**Example 1:**\n",
        "\n",
        "Input:\n",
        "\n",
        "```bash\n",
        "{'c': [3], 'b': [12, 10], 'a': [19, 4]}\n",
        "```\n",
        "\n",
        "Output:\n",
        "\n",
        "```bash\n",
        "{'a': [4, 19], 'b': [10, 12], 'c': [3]}\n",
        "```\n",
        "\n",
        "**Example 2:**\n",
        "\n",
        "Input:\n",
        "\n",
        "```bash\n",
        "{'c': [10, 34, 3]}\n",
        "```\n",
        "\n",
        "Output:\n",
        "\n",
        "```bash\n",
        "{'c': [3, 10, 34]}\n",
        "```"
      ],
      "metadata": {
        "id": "Fz8EzJD-kBkS"
      }
    },
    {
      "cell_type": "code",
      "source": [
        "input = {'c': [3], 'b': [12, 10], 'a': [19, 4]}\n",
        "\n",
        "d = {}\n",
        "for i in sorted(input):\n",
        "  d[i] = sorted(input[i])\n",
        "\n",
        "print(d)"
      ],
      "metadata": {
        "id": "EywcG3vlje_z",
        "outputId": "a2fc5025-a619-4d93-f85c-2b255190a68b",
        "colab": {
          "base_uri": "https://localhost:8080/"
        }
      },
      "execution_count": 52,
      "outputs": [
        {
          "output_type": "stream",
          "name": "stdout",
          "text": [
            "{'a': [4, 19], 'b': [10, 12], 'c': [3]}\n"
          ]
        }
      ]
    },
    {
      "cell_type": "code",
      "source": [
        "input = {'c': [3], 'b': [12, 10], 'a': [19, 4]}\n",
        "\n",
        "d = {i:sorted(input[i]) for i in sorted(input)}\n",
        "print(d)"
      ],
      "metadata": {
        "id": "JC37db2Or75L",
        "outputId": "2e1992c7-4eb1-4138-a613-a5270e6cac4d",
        "colab": {
          "base_uri": "https://localhost:8080/"
        }
      },
      "execution_count": 54,
      "outputs": [
        {
          "output_type": "stream",
          "name": "stdout",
          "text": [
            "{'a': [4, 19], 'b': [10, 12], 'c': [3]}\n"
          ]
        }
      ]
    },
    {
      "cell_type": "code",
      "source": [
        "input = {'c': [10, 34, 3]}\n",
        "\n",
        "d = {i:sorted(input[i]) for i in sorted(input)}\n",
        "print(d)"
      ],
      "metadata": {
        "id": "u6pw6A2xx7lT",
        "outputId": "2939b537-d724-4a98-8124-0b124aa6975c",
        "colab": {
          "base_uri": "https://localhost:8080/"
        }
      },
      "execution_count": 56,
      "outputs": [
        {
          "output_type": "stream",
          "name": "stdout",
          "text": [
            "{'c': [3, 10, 34]}\n"
          ]
        }
      ]
    },
    {
      "cell_type": "code",
      "source": [],
      "metadata": {
        "id": "-rKLDTVxySd_"
      },
      "execution_count": null,
      "outputs": []
    }
  ]
}