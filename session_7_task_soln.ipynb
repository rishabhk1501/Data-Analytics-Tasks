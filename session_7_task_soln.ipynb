{
  "nbformat": 4,
  "nbformat_minor": 0,
  "metadata": {
    "colab": {
      "provenance": [],
      "include_colab_link": true
    },
    "kernelspec": {
      "name": "python3",
      "display_name": "Python 3"
    },
    "language_info": {
      "name": "python"
    }
  },
  "cells": [
    {
      "cell_type": "markdown",
      "metadata": {
        "id": "view-in-github",
        "colab_type": "text"
      },
      "source": [
        "<a href=\"https://colab.research.google.com/github/rishabhk1501/Data-Analytics-Tasks/blob/main/session_7_task_soln.ipynb\" target=\"_parent\"><img src=\"https://colab.research.google.com/assets/colab-badge.svg\" alt=\"Open In Colab\"/></a>"
      ]
    },
    {
      "cell_type": "markdown",
      "source": [
        "##`Q-1:` Rectangle Class\n",
        "1. Write a Rectangle class in Python language, allowing you to build a rectangle with length and width attributes.\n",
        "\n",
        "2. Create a Perimeter() method to calculate the perimeter of the rectangle and a Area() method to calculate the area of ​​the rectangle.\n",
        "\n",
        "3. Create a method display() that display the length, width, perimeter and area of an object created using an instantiation on rectangle class."
      ],
      "metadata": {
        "id": "FyUJ3PRAsPr4"
      }
    },
    {
      "cell_type": "markdown",
      "source": [
        "Eg.\n",
        "After making above classes and methods, on executing below code:-\n",
        "```\n",
        "my_rectangle = Rectangle(3 , 4)\n",
        "my_rectangle.display()\n",
        "```\n",
        "\n",
        "`Output:`\n",
        "```\n",
        "The length of rectangle is:  3\n",
        "The width of rectangle is:  4\n",
        "The perimeter of rectangle is:  14\n",
        "The area of rectangle is:  12\n",
        "```\n"
      ],
      "metadata": {
        "id": "GxUtOqJfssFK"
      }
    },
    {
      "cell_type": "code",
      "source": [
        "# write your code here\n",
        "\n",
        "class Rectangle:\n",
        "\n",
        "  def __init__(self,x,y):\n",
        "    self.len = x\n",
        "    self.wid = y\n",
        "\n",
        "  def area(self):\n",
        "    ar = self.len * self.wid\n",
        "    return ar\n",
        "\n",
        "  def perimeter(self):\n",
        "    peri = 2*(self.len + self.wid)\n",
        "    return peri\n",
        "\n",
        "  def display(self):\n",
        "    print('The length of rectangle is: {}\\nThe width of rectangle is: {}\\nThe perimeter of rectangle is: {}\\nThe area of rectangle is: {}'.format(self.len,self.wid,self.perimeter(),self.area()))"
      ],
      "metadata": {
        "id": "92_QT-Uj6NBg"
      },
      "execution_count": null,
      "outputs": []
    },
    {
      "cell_type": "code",
      "source": [
        "rec1 = Rectangle(3,4)\n",
        "rec1.area()"
      ],
      "metadata": {
        "colab": {
          "base_uri": "https://localhost:8080/"
        },
        "id": "t-omMOyb2W-_",
        "outputId": "1f30b5fa-f0fa-468d-ec04-e1c8fe9f5581"
      },
      "execution_count": null,
      "outputs": [
        {
          "output_type": "execute_result",
          "data": {
            "text/plain": [
              "12"
            ]
          },
          "metadata": {},
          "execution_count": 52
        }
      ]
    },
    {
      "cell_type": "code",
      "source": [
        "rec1.perimeter()"
      ],
      "metadata": {
        "colab": {
          "base_uri": "https://localhost:8080/"
        },
        "id": "eBGoJ4Yt39ks",
        "outputId": "92d2831e-4640-420f-a34d-18a444b777df"
      },
      "execution_count": null,
      "outputs": [
        {
          "output_type": "execute_result",
          "data": {
            "text/plain": [
              "14"
            ]
          },
          "metadata": {},
          "execution_count": 55
        }
      ]
    },
    {
      "cell_type": "code",
      "source": [
        "rec1.display()"
      ],
      "metadata": {
        "colab": {
          "base_uri": "https://localhost:8080/"
        },
        "id": "VUJHN_6A6Bjm",
        "outputId": "bf0dc2f4-c094-492f-88f4-281c52169cc2"
      },
      "execution_count": null,
      "outputs": [
        {
          "output_type": "stream",
          "name": "stdout",
          "text": [
            "The length of rectangle is: 3\n",
            "The width of rectangle is: 4\n",
            "The perimeter of rectangle is: 14\n",
            "The area of rectangle is: 12\n"
          ]
        }
      ]
    },
    {
      "cell_type": "markdown",
      "source": [
        "##`Q-2: Bank Class`\n",
        "\n",
        "1. Create a Python class called `BankAccount` which represents a bank account, having as attributes: `accountNumber` (numeric type), `name` (name of the account owner as string type), `balance`.\n",
        "2. Create a constructor with parameters: `accountNumber, name, balance`.\n",
        "3. Create a `Deposit()` method which manages the deposit actions.\n",
        "4. Create a `Withdrawal()` method  which manages withdrawals actions.\n",
        "5. Create an `bankFees()` method to apply the bank fees with a percentage of 5% of the balance account.\n",
        "6. Create a `display()` method to display account details.\n",
        "Give the complete code for the  BankAccount class."
      ],
      "metadata": {
        "id": "r_GxrS0Vrdom"
      }
    },
    {
      "cell_type": "markdown",
      "source": [
        "Eg.\n",
        "After making above classes and methods, on executing below code:-\n",
        "```\n",
        "newAccount = BankAccount(2178514584, \"Mandy\" , 2800)\n",
        "\n",
        "newAccount.Withdrawal(700)\n",
        "\n",
        "newAccount.Deposit(1000)\n",
        "\n",
        "newAccount.display()\n",
        "```\n",
        "\n",
        "`Output:`\n",
        "```\n",
        "Account Number :  2178514584\n",
        "Account Name :  Mandy\n",
        "Account Balance :  3100 ₹\n",
        "```"
      ],
      "metadata": {
        "id": "qvVkOUJgvTV_"
      }
    },
    {
      "cell_type": "code",
      "source": [
        "# write your code here\n",
        "\n",
        "class BankAccount:\n",
        "    def __init__(self, accountNumber, name, balance):\n",
        "        self.accountNumber = accountNumber\n",
        "        self.name = name\n",
        "        self.balance = balance\n",
        "\n",
        "    def Deposit(self, amount):\n",
        "        self.balance += amount\n",
        "        print('You have successfully made a deposit of {} INR. Updated account balance is {} INR.'.format(amount, self.balance))\n",
        "\n",
        "    def Withdrawal(self, amount):\n",
        "        if amount <= self.balance:\n",
        "            self.balance -= amount\n",
        "            print('You have successfully made a withdrawal of {} INR. Updated account balance is {} INR.'.format(amount, self.balance))\n",
        "        else:\n",
        "            print('Insufficient funds. Withdrawal failed.')\n",
        "\n",
        "    def bankFees(self):\n",
        "        fees = self.balance * 0.05\n",
        "        self.balance -= fees\n",
        "        print('A bank maintenance fee of {} INR has been deducted. Updated account balance is {} INR.'.format(fees, self.balance))\n",
        "\n",
        "    def display(self):\n",
        "        print('Account Number: {}\\nAccount Name: {}\\nAccount Balance: {} INR'.format(self.accountNumber, self.name, self.balance))\n",
        "\n",
        "# Example usage:\n",
        "newAccount = BankAccount(2178514584, \"Mandy\", 3100)\n",
        "\n",
        "newAccount.Withdrawal(700)\n",
        "newAccount.Deposit(1000)\n",
        "newAccount.bankFees()\n",
        "newAccount.display()\n",
        "\n"
      ],
      "metadata": {
        "id": "fUQOmQyA6YDR",
        "colab": {
          "base_uri": "https://localhost:8080/"
        },
        "outputId": "221ff325-761d-459b-a1c4-a7b27a3d36c5"
      },
      "execution_count": null,
      "outputs": [
        {
          "output_type": "stream",
          "name": "stdout",
          "text": [
            "You have successfully made a withdrawal of 700 INR. Updated account balance is 2400 INR.\n",
            "You have successfully made a deposit of 1000 INR. Updated account balance is 3400 INR.\n",
            "A bank maintenance fee of 170.0 INR has been deducted. Updated account balance is 3230.0 INR.\n",
            "Account Number: 2178514584\n",
            "Account Name: Mandy\n",
            "Account Balance: 3230.0 INR\n"
          ]
        }
      ]
    },
    {
      "cell_type": "code",
      "source": [
        "print(newAccount)"
      ],
      "metadata": {
        "id": "Gq4jt7W5QC2q",
        "outputId": "233110e3-9667-4cc3-e5d6-5f9bccd77662",
        "colab": {
          "base_uri": "https://localhost:8080/"
        }
      },
      "execution_count": null,
      "outputs": [
        {
          "output_type": "stream",
          "name": "stdout",
          "text": [
            "<__main__.BankAccount object at 0x7b825ed05ff0>\n"
          ]
        }
      ]
    },
    {
      "cell_type": "markdown",
      "source": [
        "##`Q-3:Computation class`\n",
        "\n",
        "1. Create a `Computation` class with a default constructor (without parameters) allowing to perform various calculations on integers numbers.\n",
        "2. Create a method called `Factorial()` which allows to calculate the factorial of an integer n. Integer n as parameter for this method\n",
        "\n",
        "3. Create a method called `naturalSum()` allowing to calculate the sum of the first n integers 1 + 2 + 3 + .. + n. Integer n as parameter for this method.\n",
        "\n",
        "4. Create a method called `testPrime()` in  the Calculation class to test the primality of a given integer n, n is Prime or Not? Integer n as parameter for this method.\n",
        "\n",
        "5. Create  a method called `testPrims()` allowing to test if two numbers are prime between them. Two integers are prime to one another if they have only `1` as their common divisor. Eg. 4 and 9 are prime to each other.\n",
        "\n",
        "5. Create a `tableMult()` method which creates and displays the multiplication table of a given integer. Then create an `allTablesMult()` method to display all the integer multiplication tables 1, 2, 3, ..., 9.\n",
        "\n",
        "6. Create a static `listDiv()` method that gets all the divisors of a given integer on new list called  Ldiv. Create another `listDivPrim()` method that gets all the prime divisors of a given integer."
      ],
      "metadata": {
        "id": "QovcQAZTrgGU"
      }
    },
    {
      "cell_type": "code",
      "source": [
        "# write your code here\n",
        "\n",
        "class Computation:\n",
        "\n",
        "  def __init__(self):\n",
        "    pass\n",
        "\n",
        "  def Factorial(self,x):\n",
        "    if (type(x) == int and x >= 1):\n",
        "      i = 1\n",
        "      sum = 1\n",
        "      while i <= x:\n",
        "        sum = sum *i\n",
        "        i = i + 1\n",
        "      return 'The factorial of the integer {} is {}'.format(x,sum)\n",
        "    else:\n",
        "      print('Factorial can not be calculated for the given input')\n",
        "\n",
        "  def naturalSum(self,x):\n",
        "    if (type(x) == int and x >= 1):\n",
        "      i = 1\n",
        "      sum = 0\n",
        "      while i <= x:\n",
        "        sum = sum + i\n",
        "        i = i + 1\n",
        "      return 'The natural sum  of the first {} integers is {}'.format(x,sum)\n",
        "    else:\n",
        "      print('Natural sum can not be calculated for the given input')\n",
        "\n",
        "  def testPrime(self,x):\n",
        "    if (type(x) == int and x >= 0):\n",
        "      i = 1\n",
        "      count = 0\n",
        "      while i <= x:\n",
        "        if x % i == 0:\n",
        "          count = count + 1\n",
        "        i = i + 1\n",
        "      if count == 2:\n",
        "        print('{} is a Prime Number'.format(x))\n",
        "      else:\n",
        "        print('{} is not a Prime Number'.format(x))\n",
        "    else:\n",
        "      print('Prime number test can not be performed for the given input')\n",
        "\n",
        "\n",
        "\n",
        "\n",
        "\n",
        "\n"
      ],
      "metadata": {
        "id": "YEkPH70l6Z-o"
      },
      "execution_count": null,
      "outputs": []
    },
    {
      "cell_type": "code",
      "source": [
        "comp1 = Computation()"
      ],
      "metadata": {
        "id": "7SYk_TAGg7n5"
      },
      "execution_count": null,
      "outputs": []
    },
    {
      "cell_type": "code",
      "source": [
        "comp1.Factorial(10)"
      ],
      "metadata": {
        "id": "cXEOXH96k_V9",
        "outputId": "44179cda-78f8-4c9b-91ad-7575f95701a7",
        "colab": {
          "base_uri": "https://localhost:8080/",
          "height": 35
        }
      },
      "execution_count": null,
      "outputs": [
        {
          "output_type": "execute_result",
          "data": {
            "text/plain": [
              "'The factorial of the integer 10 is 3628800'"
            ],
            "application/vnd.google.colaboratory.intrinsic+json": {
              "type": "string"
            }
          },
          "metadata": {},
          "execution_count": 117
        }
      ]
    },
    {
      "cell_type": "code",
      "source": [
        "comp1.naturalSum(10)"
      ],
      "metadata": {
        "id": "25nY7K3OpnO2",
        "outputId": "c0785ae2-36c5-4827-9761-c242ed85ff58",
        "colab": {
          "base_uri": "https://localhost:8080/",
          "height": 35
        }
      },
      "execution_count": null,
      "outputs": [
        {
          "output_type": "execute_result",
          "data": {
            "text/plain": [
              "'The natural sum  of the first 10 integers is 55'"
            ],
            "application/vnd.google.colaboratory.intrinsic+json": {
              "type": "string"
            }
          },
          "metadata": {},
          "execution_count": 118
        }
      ]
    },
    {
      "cell_type": "code",
      "source": [
        "comp1.testPrime(7)"
      ],
      "metadata": {
        "id": "BoH8-nDK-upM",
        "outputId": "9011a9fd-7e89-430e-8c64-e4d020d9c44b",
        "colab": {
          "base_uri": "https://localhost:8080/"
        }
      },
      "execution_count": null,
      "outputs": [
        {
          "output_type": "stream",
          "name": "stdout",
          "text": [
            "7 is a Prime Number\n"
          ]
        }
      ]
    },
    {
      "cell_type": "code",
      "source": [],
      "metadata": {
        "id": "cLrKytK8_JhX"
      },
      "execution_count": null,
      "outputs": []
    },
    {
      "cell_type": "markdown",
      "source": [
        "##`Q-4`: Build flashcard using class in Python.\n",
        "\n",
        "Build a flashcard using class in python. A flashcard is a card having information on both sides, which can be used as an aid in memoization. Flashcards usually have a question on one side and an answer on the other.\n",
        "\n",
        "**Example 1:**\n",
        "\n",
        "Approach:\n",
        "\n",
        "- Create a class named FlashCard.\n",
        "- Initialize dictionary fruits using __init__() method. Here you have to define fruit name as key and it's color as value. E.g., {\"Banana\": \"yellow\", \"Strawberries\": \"pink\"}\n",
        "- Now randomly choose a pair from fruits by using _random_ module and store the key in variable _fruit_ and _value_ in variable color.\n",
        "- Now prompt the user to answer the color of the randomly chosen fruit.\n",
        "- If correct print correct else print wrong.\n",
        "\n",
        "Output:\n",
        "```bash\n",
        "welcome to fruit quiz\n",
        "What is the color of Strawberries\n",
        "pink\n",
        "Correct answer\n",
        "Enter 0, if you want to play again: 0\n",
        "What is the color of watermelon\n",
        "green\n",
        "Correct answer\n",
        "Enter 0, if you want to play again: 1\n",
        "```"
      ],
      "metadata": {
        "id": "0yn23_oEriXa"
      }
    },
    {
      "cell_type": "code",
      "source": [
        "# write your code here"
      ],
      "metadata": {
        "id": "vCrUF6VU6l6w"
      },
      "execution_count": null,
      "outputs": []
    },
    {
      "cell_type": "markdown",
      "source": [
        "## `Q-5:` Problem 5 based on OOP Python.\n",
        "\n",
        "TechWorld, a technology training center, wants to allocate courses for instructors. An instructor is identified by name, technology skills, experience and average feedback. An instructor is allocated a course, if he/she satisfies the below two conditions:\n",
        "- eligibility criteria:\n",
        "    - if experience is more than 3 years, average feedback should be 4.5 or more\n",
        "    - if experience is 3 years or less, average feedback should be 4 or more\n",
        "- he/she should posses the technology skill for the course\n",
        "\n",
        "Identify the class name and attributes to represent instructors. Write a Python program to implement the class chosen with its attributes and methods.\n",
        "\n",
        "**Note:**\n",
        "- Consider all instance variables to be private and methods to be public.\n",
        "- An instructor may have multiple technology skills, so consider instance variable, technology_skill to be a list.\n",
        "- *check_eligibility()*: Return true if eligibility criteria is satisfied by the instructor. Else, return false\n",
        "- *allocate_course(technology)*: Return true if the course which requires the given technology can be allocated to the instructor. Else, return false.\n",
        "\n",
        "Represent a few objects of the class, initialize instance variables using setter methods, invoke\n",
        "appropriate methods and test your program."
      ],
      "metadata": {
        "id": "GN2r0jbRewYr"
      }
    },
    {
      "cell_type": "code",
      "source": [
        "# write your code here"
      ],
      "metadata": {
        "id": "pdMFuVFnlvKL"
      },
      "execution_count": null,
      "outputs": []
    }
  ]
}