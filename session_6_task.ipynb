{
  "nbformat": 4,
  "nbformat_minor": 0,
  "metadata": {
    "colab": {
      "provenance": [],
      "include_colab_link": true
    },
    "kernelspec": {
      "name": "python3",
      "display_name": "Python 3"
    },
    "language_info": {
      "name": "python"
    }
  },
  "cells": [
    {
      "cell_type": "markdown",
      "metadata": {
        "id": "view-in-github",
        "colab_type": "text"
      },
      "source": [
        "<a href=\"https://colab.research.google.com/github/rishabhk1501/Data-Analytics-Tasks/blob/main/session_6_task.ipynb\" target=\"_parent\"><img src=\"https://colab.research.google.com/assets/colab-badge.svg\" alt=\"Open In Colab\"/></a>"
      ]
    },
    {
      "cell_type": "markdown",
      "source": [
        "### **`Problem-1:`** Write a Python function that takes a list and returns a new list with unique elements of the first list.\n",
        "\n",
        "**Exercise 1:**\n",
        "\n",
        "Input:\n",
        "\n",
        "```bash\n",
        "[1,2,3,3,3,3,4,5]\n",
        "```\n",
        "\n",
        "Output:\n",
        "\n",
        "```bash\n",
        "[1, 2, 3, 4, 5]\n",
        "```"
      ],
      "metadata": {
        "id": "h6dDSW5XGZFi"
      }
    },
    {
      "cell_type": "code",
      "source": [
        "def unique_list(x):\n",
        "  '''\n",
        "  This function converts the list containing\n",
        "  duplicate elements into a unique list\n",
        "  '''\n",
        "  result = []\n",
        "  for i in x:\n",
        "    if i not in result:\n",
        "      result.append(i)\n",
        "  return result"
      ],
      "metadata": {
        "id": "R5pq1C9LGe1y"
      },
      "execution_count": 1,
      "outputs": []
    },
    {
      "cell_type": "code",
      "source": [
        "unique_list([1,2,3,3,3,3,4,5])"
      ],
      "metadata": {
        "colab": {
          "base_uri": "https://localhost:8080/"
        },
        "id": "_I1zhHhjAqOk",
        "outputId": "0db12740-0957-47f5-b208-f1f4f7918549"
      },
      "execution_count": 2,
      "outputs": [
        {
          "output_type": "execute_result",
          "data": {
            "text/plain": [
              "[1, 2, 3, 4, 5]"
            ]
          },
          "metadata": {},
          "execution_count": 2
        }
      ]
    },
    {
      "cell_type": "code",
      "source": [
        "unique_list(['abc', 123, 'vgd', 'abc', True, {1,2,4}, (8,9,99), 123, True, False, 'vgd'])"
      ],
      "metadata": {
        "colab": {
          "base_uri": "https://localhost:8080/"
        },
        "id": "uQnXky8HBBSD",
        "outputId": "be80cc2c-6ecf-4690-e0a1-22acd90ba4b5"
      },
      "execution_count": 3,
      "outputs": [
        {
          "output_type": "execute_result",
          "data": {
            "text/plain": [
              "['abc', 123, 'vgd', True, {1, 2, 4}, (8, 9, 99), False]"
            ]
          },
          "metadata": {},
          "execution_count": 3
        }
      ]
    },
    {
      "cell_type": "code",
      "source": [
        "unique_list.__doc__"
      ],
      "metadata": {
        "colab": {
          "base_uri": "https://localhost:8080/",
          "height": 35
        },
        "id": "n20elQgKBbSy",
        "outputId": "bc8d077d-8498-435b-d637-a83ac82b2978"
      },
      "execution_count": 4,
      "outputs": [
        {
          "output_type": "execute_result",
          "data": {
            "text/plain": [
              "'\\n  This function converts the list containing \\n  duplicate elements into a unique list\\n  '"
            ],
            "application/vnd.google.colaboratory.intrinsic+json": {
              "type": "string"
            }
          },
          "metadata": {},
          "execution_count": 4
        }
      ]
    },
    {
      "cell_type": "markdown",
      "source": [
        "### **`Problem-2:`** Write a Python function that accepts a hyphen-separated sequence of words as parameter and returns the words in a hyphen-separated sequence after sorting them alphabetically.\n",
        "\n",
        "**Example 1:**\n",
        "\n",
        "Input:\n",
        "```bash\n",
        "green-red-yellow-black-white\n",
        "```\n",
        "\n",
        "Output:\n",
        "```bash\n",
        "black-green-red-white-yellow\n",
        "```"
      ],
      "metadata": {
        "id": "UxQ_VoyJGwHj"
      }
    },
    {
      "cell_type": "code",
      "source": [
        "# Write code here\n",
        "\n",
        "def hyphen_sort(x):\n",
        "\n",
        "\n",
        "  '''\n",
        "  This function accepts a hyphen-separated\n",
        "  sequence of words as parameter\n",
        "  and returns the words in a\n",
        "  hyphen-separated sequence\n",
        "  after sorting them alphabetically\n",
        "  '''\n",
        "\n",
        "  L = sorted(x.split('-'))\n",
        "  result = '-'.join(L)\n",
        "\n",
        "  print(result)"
      ],
      "metadata": {
        "id": "AAts2m5zGwiQ"
      },
      "execution_count": 13,
      "outputs": []
    },
    {
      "cell_type": "code",
      "source": [
        "string = 'green-red-yellow-black-white'\n",
        "\n",
        "hyphen_sort(string)"
      ],
      "metadata": {
        "colab": {
          "base_uri": "https://localhost:8080/"
        },
        "id": "pyaYstyMFtWf",
        "outputId": "471ce11e-c527-4a16-bbae-62d759eb0ac5"
      },
      "execution_count": 12,
      "outputs": [
        {
          "output_type": "stream",
          "name": "stdout",
          "text": [
            "black-green-red-white-yellow\n"
          ]
        }
      ]
    },
    {
      "cell_type": "markdown",
      "source": [
        "### **`Problem 3:`** Write a Python function that accepts a string and calculate the number of upper case letters and lower case letters.\n",
        "\n",
        "```\n",
        "Sample String : 'CampusX is an Online Mentorship Program fOr EnginEering studentS.'\n",
        "Expected Output :\n",
        "No. of Upper case characters :  9\n",
        "No. of Lower case Characters :  47\n",
        "```"
      ],
      "metadata": {
        "id": "IRGH62S7Gx_n"
      }
    },
    {
      "cell_type": "code",
      "source": [
        "# Write code here\n",
        "\n",
        "def case_count(x):\n",
        "\n",
        "  '''\n",
        "  This function accepts a string and calculate\n",
        "  the number of upper case letters\n",
        "  and lower case letters\n",
        "  '''\n",
        "\n",
        "  count_upper = 0\n",
        "  count_lower = 0\n",
        "\n",
        "  for i in x:\n",
        "    if i.isupper():\n",
        "      count_upper += 1\n",
        "    elif i.lower():\n",
        "      count_lower += 1\n",
        "\n",
        "  print('No. of Upper case characters : {}'.format(count_upper))\n",
        "  print('No. of Lower case characters : {}'.format(count_lower))\n"
      ],
      "metadata": {
        "id": "OaUrD8vVG5o8"
      },
      "execution_count": 21,
      "outputs": []
    },
    {
      "cell_type": "code",
      "source": [
        "string = 'CampusX is an Online Mentorship Program fOr EnginEering studentS.'\n",
        "\n",
        "case_count(string)"
      ],
      "metadata": {
        "colab": {
          "base_uri": "https://localhost:8080/"
        },
        "id": "4mSQn1YfJBw1",
        "outputId": "fdbdedeb-32e1-4c0a-856a-1a44087a2012"
      },
      "execution_count": 22,
      "outputs": [
        {
          "output_type": "stream",
          "name": "stdout",
          "text": [
            "No. of Upper case characters : 9\n",
            "No. of Lower case characters : 56\n"
          ]
        }
      ]
    },
    {
      "cell_type": "markdown",
      "source": [
        "### **`Problem 4:`** Write a Python program to print the even numbers from a given list.\n",
        "```\n",
        "Sample List : [1, 2, 3, 4, 5, 6, 7, 8, 9]\n",
        "Expected Result : [2, 4, 6, 8]\n",
        "```"
      ],
      "metadata": {
        "id": "V1BFFdYQG7Sn"
      }
    },
    {
      "cell_type": "code",
      "source": [
        "# Write code here\n",
        "\n",
        "def even_list(x):\n",
        "\n",
        "  '''\n",
        "  This function prints the even\n",
        "  numbers from a given list\n",
        "  '''\n",
        "\n",
        "  L = [i for i in x if i%2 == 0]\n",
        "\n",
        "  return(L)\n"
      ],
      "metadata": {
        "id": "VvAReLoDG_Z3"
      },
      "execution_count": 2,
      "outputs": []
    },
    {
      "cell_type": "code",
      "source": [
        "even_list([1, 2, 3, 4, 5, 6, 7, 8, 9, 34, 81, 90])"
      ],
      "metadata": {
        "colab": {
          "base_uri": "https://localhost:8080/"
        },
        "id": "MHe86pAyjI3i",
        "outputId": "4fd904c1-402b-4274-90ff-6c7fe372ad0f"
      },
      "execution_count": 4,
      "outputs": [
        {
          "output_type": "execute_result",
          "data": {
            "text/plain": [
              "[2, 4, 6, 8, 34, 90]"
            ]
          },
          "metadata": {},
          "execution_count": 4
        }
      ]
    },
    {
      "cell_type": "markdown",
      "source": [
        "### **`Problem 5:`** Write a Python function to check whether a number is perfect or not.\n",
        "\n",
        "A Perfect number is a number that is half the sum of all of its positive divisors (including itself).\n",
        "\n",
        "Example :\n",
        "\n",
        "```\n",
        "The first perfect number is 6, because 1, 2, and 3 are its proper positive divisors, and 1 + 2 + 3 = 6.\n",
        "Equivalently, the number 6 is equal to half the sum of all its positive divisors: ( 1 + 2 + 3 + 6 ) / 2 = 6.\n",
        "\n",
        "The next perfect number is 28 = 1 + 2 + 4 + 7 + 14. This is followed by the perfect numbers 496 and 8128.\n",
        "```\n"
      ],
      "metadata": {
        "id": "qrK39Gn-HHb4"
      }
    },
    {
      "cell_type": "code",
      "source": [
        "# Write code here\n",
        "\n",
        "def perfect(x):\n",
        "\n",
        "  '''\n",
        "  This function checks whether\n",
        "  a number is perfect or not\n",
        "  '''\n",
        "\n",
        "  i = 1\n",
        "  sum = 0\n",
        "  while i < x:\n",
        "    if x % i == 0:\n",
        "      sum += i\n",
        "    i += 1\n",
        "\n",
        "\n",
        "  if sum == x:\n",
        "    print('{} is a perfect number'.format(x))\n",
        "  else:\n",
        "    print('{} is a not a perfect number'.format(x))\n"
      ],
      "metadata": {
        "id": "P-OI7H78HICs"
      },
      "execution_count": 5,
      "outputs": []
    },
    {
      "cell_type": "code",
      "source": [
        "perfect(28)"
      ],
      "metadata": {
        "colab": {
          "base_uri": "https://localhost:8080/"
        },
        "id": "URT6UDH0FHua",
        "outputId": "28d4315c-04d7-43ec-870c-902f04f4be56"
      },
      "execution_count": 11,
      "outputs": [
        {
          "output_type": "stream",
          "name": "stdout",
          "text": [
            "28 is a perfect number\n"
          ]
        }
      ]
    },
    {
      "cell_type": "code",
      "source": [
        "perfect(6)"
      ],
      "metadata": {
        "colab": {
          "base_uri": "https://localhost:8080/"
        },
        "id": "2QzxXk8TE-wz",
        "outputId": "8e736522-f838-4dba-d123-7aecd338d63d"
      },
      "execution_count": 10,
      "outputs": [
        {
          "output_type": "stream",
          "name": "stdout",
          "text": [
            "6 is a perfect number\n"
          ]
        }
      ]
    },
    {
      "cell_type": "code",
      "source": [
        "perfect(8128)"
      ],
      "metadata": {
        "colab": {
          "base_uri": "https://localhost:8080/"
        },
        "id": "rKow1MBNFLMp",
        "outputId": "243d6d84-4f07-4701-eac3-335e6e9044cd"
      },
      "execution_count": 13,
      "outputs": [
        {
          "output_type": "stream",
          "name": "stdout",
          "text": [
            "8128 is a perfect number\n"
          ]
        }
      ]
    },
    {
      "cell_type": "code",
      "source": [
        "perfect(8129)"
      ],
      "metadata": {
        "colab": {
          "base_uri": "https://localhost:8080/"
        },
        "id": "VqnSu--6FQi5",
        "outputId": "2f4dd20b-3bb0-4b86-edd1-8e0d53c7a0b1"
      },
      "execution_count": 14,
      "outputs": [
        {
          "output_type": "stream",
          "name": "stdout",
          "text": [
            "8129 is a not a perfect number\n"
          ]
        }
      ]
    },
    {
      "cell_type": "markdown",
      "source": [
        "### **`Problem-6:`** Write a Python function to concatenate any no of dictionaries to create a new one.\n",
        "\n",
        "```\n",
        "Sample Dictionary :\n",
        "dic1={1:10, 2:20}\n",
        "dic2={3:30, 4:40}\n",
        "dic3={5:50,6:60}\n",
        "Expected Result : {1: 10, 2: 20, 3: 30, 4: 40, 5: 50, 6: 60}\n",
        "```"
      ],
      "metadata": {
        "id": "oZdpcG77HO-6"
      }
    },
    {
      "cell_type": "code",
      "source": [
        "# Write code here\n",
        "\n",
        "def concatenate_dicts(dicts):\n",
        "    concatenated_dict = {}\n",
        "    for d in dicts:\n",
        "        concatenated_dict.update(d)\n",
        "    return concatenated_dict\n",
        "\n",
        "# Sample dictionaries\n",
        "dic1 = {1: 10, 2: 20}\n",
        "dic2 = {3: 30, 4: 40}\n",
        "dic3 = {5: 50, 6: 60}\n",
        "\n",
        "# Concatenate dictionaries\n",
        "result = concatenate_dicts([dic1, dic2, dic3])\n",
        "print(\"Concatenated Dictionary:\", result)\n"
      ],
      "metadata": {
        "id": "LQgfAY4ZHPhj",
        "colab": {
          "base_uri": "https://localhost:8080/"
        },
        "outputId": "3760a035-9786-40cf-9fad-ff6a0ed11919"
      },
      "execution_count": 24,
      "outputs": [
        {
          "output_type": "stream",
          "name": "stdout",
          "text": [
            "Concatenated Dictionary: {1: 10, 2: 20, 3: 30, 4: 40, 5: 50, 6: 60}\n"
          ]
        }
      ]
    },
    {
      "cell_type": "markdown",
      "source": [
        "`Problem-7` Write a python function that accepts a string as input and returns the word with most occurence.\n",
        "\n",
        "```\n",
        "Input:\n",
        "hello how are you i am fine thank you\n",
        "```\n",
        "\n",
        "```\n",
        "Output\n",
        "you -> 2\n",
        "```"
      ],
      "metadata": {
        "id": "jQ6SzbCkHRd0"
      }
    },
    {
      "cell_type": "code",
      "source": [
        "# Write code here\n",
        "\n",
        "\n",
        "def freq(string):\n",
        "  dic = {i:string.split().count(i) for i in string.split()}\n",
        "\n",
        "  max_freq = max(dic.values())\n",
        "  for i,j in dic.items():\n",
        "    if j == max_freq:\n",
        "      print('{} -> {}'.format(i,j))\n",
        "\n"
      ],
      "metadata": {
        "id": "Lh04JHLzIW7Z"
      },
      "execution_count": 27,
      "outputs": []
    },
    {
      "cell_type": "code",
      "source": [
        "Input = 'hello how are you i am fine thank you'\n",
        "\n",
        "freq(Input)"
      ],
      "metadata": {
        "colab": {
          "base_uri": "https://localhost:8080/"
        },
        "id": "FELqeyb6yUNV",
        "outputId": "c7b84fe0-a375-4da2-85e1-9115fb9bf9eb"
      },
      "execution_count": 28,
      "outputs": [
        {
          "output_type": "stream",
          "name": "stdout",
          "text": [
            "you -> 2\n"
          ]
        }
      ]
    },
    {
      "cell_type": "code",
      "source": [
        "Input = 'hello how are you i am thank fine thank you'\n",
        "\n",
        "freq(Input)"
      ],
      "metadata": {
        "colab": {
          "base_uri": "https://localhost:8080/"
        },
        "id": "jhQiBfLxymi-",
        "outputId": "4cbc8ce8-e435-4c40-a26d-5927d5b2d841"
      },
      "execution_count": 29,
      "outputs": [
        {
          "output_type": "stream",
          "name": "stdout",
          "text": [
            "you -> 2\n",
            "thank -> 2\n"
          ]
        }
      ]
    },
    {
      "cell_type": "code",
      "source": [
        "Input = 'hello how hello are you i am hello thank i you fine hello thank you'\n",
        "\n",
        "freq(Input)"
      ],
      "metadata": {
        "colab": {
          "base_uri": "https://localhost:8080/"
        },
        "id": "41-H4NY4yqor",
        "outputId": "aa19a254-8b84-4d84-ec5a-3afafe1744cf"
      },
      "execution_count": 32,
      "outputs": [
        {
          "output_type": "stream",
          "name": "stdout",
          "text": [
            "hello -> 4\n"
          ]
        }
      ]
    },
    {
      "cell_type": "markdown",
      "source": [
        "`Problem-8` Write a python function that receives a list of integers and prints out a histogram of bin size 10\n",
        "\n",
        "```\n",
        "Input:\n",
        "[13,42,15,37,22,39,41,50]\n",
        "```\n",
        "\n",
        "```\n",
        "Output:\n",
        "{11-20:2,21-30:1,31-40:2,41-50:3}\n",
        "```"
      ],
      "metadata": {
        "id": "1r8SpVntI-IW"
      }
    },
    {
      "cell_type": "code",
      "source": [
        "# Write code here\n",
        "\n",
        "def histogram(L):\n",
        "\n",
        "  upper_bin = max(L) + (10 - (max(L) % 10))\n",
        "  lower_bin = min(L) - (min(L) % 10)\n",
        "\n",
        "  bin_list = []\n",
        "  for i in range(lower_bin,upper_bin+1,10):\n",
        "    bin_list.append(i)\n",
        "\n",
        "  count_list = []\n",
        "\n",
        "  for i in range(len(bin_list)-1):\n",
        "    count = 0\n",
        "    for j in range(bin_list[i]+1,bin_list[i+1]+1):\n",
        "      if j in L:\n",
        "        count += 1\n",
        "    count_list.append(count)\n",
        "\n",
        "  string = ''\n",
        "  for i in range(len(bin_list)-1):\n",
        "    string = string + str(bin_list[i]+1) + '-' + str(bin_list[i+1]) + ' '\n",
        "\n",
        "  L2 = ''.join(string).split()\n",
        "\n",
        "  result = dict(zip(L2,count_list))\n",
        "\n",
        "  return result\n"
      ],
      "metadata": {
        "id": "7W0J8rUjJovg"
      },
      "execution_count": 10,
      "outputs": []
    },
    {
      "cell_type": "code",
      "source": [
        "input = [13,42,15,37,22,39,41,50]\n",
        "\n",
        "histogram(input)"
      ],
      "metadata": {
        "colab": {
          "base_uri": "https://localhost:8080/"
        },
        "id": "YTLy9f5smKQb",
        "outputId": "970fa5b1-6659-4c15-e502-f19f87901b8d"
      },
      "execution_count": 11,
      "outputs": [
        {
          "output_type": "execute_result",
          "data": {
            "text/plain": [
              "{'11-20': 2, '21-30': 1, '31-40': 2, '41-50': 3, '51-60': 0}"
            ]
          },
          "metadata": {},
          "execution_count": 11
        }
      ]
    },
    {
      "cell_type": "markdown",
      "source": [
        "`Problem-9` Write a python function that accepts a list of 2D co-ordinates and a query point, and then finds the the co-ordinate which is closest in terms of distance from the query point.\n",
        "\n",
        "```\n",
        "List of Coordinates\n",
        "[(1,1),(2,2),(3,3),(4,4)]\n",
        "Query Point\n",
        "(0,0)\n",
        "```\n",
        "\n",
        "```\n",
        "Output\n",
        "Nearest to (0,0) is (1,1)\n",
        "```"
      ],
      "metadata": {
        "id": "1P2-rbgXKE53"
      }
    },
    {
      "cell_type": "code",
      "source": [
        "# Write code here\n",
        "\n",
        "def closest(x,y):\n",
        "\n",
        "  distances = []\n",
        "\n",
        "  for i in x:\n",
        "    dist = (((i[1] - y[1])**2) + ((i[0] - y[0])**2))**0.5\n",
        "    distances.append(dist)\n",
        "\n",
        "  dic = dict(zip(x,distances))\n",
        "  min_dist = min(dic.values())\n",
        "\n",
        "  closest_list = []\n",
        "  for i in dic:\n",
        "    if dic[i] == min_dist:\n",
        "      closest_list.append(i)\n",
        "\n",
        "  return print(closest_list)\n"
      ],
      "metadata": {
        "id": "zjn7vSTIJ81G"
      },
      "execution_count": 17,
      "outputs": []
    },
    {
      "cell_type": "code",
      "source": [
        "closest([(1,1),(2,2),(3,3),(4,4)], (0,0))"
      ],
      "metadata": {
        "colab": {
          "base_uri": "https://localhost:8080/"
        },
        "id": "yxiW3-V_uDDp",
        "outputId": "26228e8e-9f1b-4fd5-ecee-987332aea8fd"
      },
      "execution_count": 18,
      "outputs": [
        {
          "output_type": "stream",
          "name": "stdout",
          "text": [
            "[(1, 1)]\n"
          ]
        }
      ]
    },
    {
      "cell_type": "code",
      "source": [
        "closest([(1,1),(2,2),(-1,-1),(4,4)], (0,0))"
      ],
      "metadata": {
        "colab": {
          "base_uri": "https://localhost:8080/"
        },
        "id": "c5imZR7euVEu",
        "outputId": "9126a5db-1628-4065-f911-620f341de1bb"
      },
      "execution_count": 19,
      "outputs": [
        {
          "output_type": "stream",
          "name": "stdout",
          "text": [
            "[(1, 1), (-1, -1)]\n"
          ]
        }
      ]
    },
    {
      "cell_type": "code",
      "source": [
        "closest([(0.5,0.75),(2,2),(-1,-1),(4,4)], (0,0))"
      ],
      "metadata": {
        "colab": {
          "base_uri": "https://localhost:8080/"
        },
        "id": "zUJchWS8u2et",
        "outputId": "cf9550d9-bd29-43ca-80d8-ad4a215c450d"
      },
      "execution_count": 21,
      "outputs": [
        {
          "output_type": "stream",
          "name": "stdout",
          "text": [
            "[(0.5, 0.75)]\n"
          ]
        }
      ]
    },
    {
      "cell_type": "markdown",
      "source": [
        "`Problem-10`:Write a python program that receives a list of strings and performs bag of word operation on those strings\n",
        "\n",
        "https://en.wikipedia.org/wiki/Bag-of-words_model"
      ],
      "metadata": {
        "id": "i-B6igmyK9hB"
      }
    },
    {
      "cell_type": "code",
      "source": [
        "# Write code here\n",
        "\n",
        "def bag_of_words(x):\n",
        "  y = x.replace('.','')\n",
        "  dic = {i:(y.split().count(i)) for i in y.split()}\n",
        "  return dic"
      ],
      "metadata": {
        "id": "N2l1_AWULT-z"
      },
      "execution_count": 25,
      "outputs": []
    },
    {
      "cell_type": "code",
      "source": [
        "bag_of_words('John likes to watch movies. Mary likes movies too.')"
      ],
      "metadata": {
        "colab": {
          "base_uri": "https://localhost:8080/"
        },
        "id": "oGhmFowTFHyG",
        "outputId": "8638871e-e887-46cf-cdaf-00d3ac1b1739"
      },
      "execution_count": 27,
      "outputs": [
        {
          "output_type": "execute_result",
          "data": {
            "text/plain": [
              "{'John': 1, 'likes': 2, 'to': 1, 'watch': 1, 'movies': 2, 'Mary': 1, 'too': 1}"
            ]
          },
          "metadata": {},
          "execution_count": 27
        }
      ]
    },
    {
      "cell_type": "code",
      "source": [
        "bag_of_words('Mary also likes to watch football games.')"
      ],
      "metadata": {
        "colab": {
          "base_uri": "https://localhost:8080/"
        },
        "id": "gvNFrsnuGNcU",
        "outputId": "4bff527d-1d23-4903-fed3-1ed25342f905"
      },
      "execution_count": 28,
      "outputs": [
        {
          "output_type": "execute_result",
          "data": {
            "text/plain": [
              "{'Mary': 1,\n",
              " 'also': 1,\n",
              " 'likes': 1,\n",
              " 'to': 1,\n",
              " 'watch': 1,\n",
              " 'football': 1,\n",
              " 'games': 1}"
            ]
          },
          "metadata": {},
          "execution_count": 28
        }
      ]
    },
    {
      "cell_type": "code",
      "source": [
        "bag_of_words('John likes to watch movies. Mary likes movies too. Mary also likes to watch football games.')"
      ],
      "metadata": {
        "colab": {
          "base_uri": "https://localhost:8080/"
        },
        "id": "L09tGOvUGV_v",
        "outputId": "4ba6b183-625f-4fb4-8bff-2483cf8d1b54"
      },
      "execution_count": 29,
      "outputs": [
        {
          "output_type": "execute_result",
          "data": {
            "text/plain": [
              "{'John': 1,\n",
              " 'likes': 3,\n",
              " 'to': 2,\n",
              " 'watch': 2,\n",
              " 'movies': 2,\n",
              " 'Mary': 2,\n",
              " 'too': 1,\n",
              " 'also': 1,\n",
              " 'football': 1,\n",
              " 'games': 1}"
            ]
          },
          "metadata": {},
          "execution_count": 29
        }
      ]
    },
    {
      "cell_type": "markdown",
      "source": [
        "###`Problem 11:` Write a Python program to add three given lists using Python map and lambda."
      ],
      "metadata": {
        "id": "dHTRKb-DqMLw"
      }
    },
    {
      "cell_type": "code",
      "source": [
        "# Write code here\n",
        "\n",
        "add_list = map(lambda x,y,z:x+y+z, )"
      ],
      "metadata": {
        "id": "NfJdzyNZqNW-"
      },
      "execution_count": null,
      "outputs": []
    },
    {
      "cell_type": "code",
      "source": [
        "list1 = [1, 2, 3]\n",
        "list2 = [4, 5, 6]\n",
        "list3 = [7, 8, 9]\n",
        "\n",
        "list_add = map(lambda x,y,z: x+y+z, list1,list2,list3)\n",
        "list(list_add)"
      ],
      "metadata": {
        "id": "TCpBDC6wHhCm",
        "outputId": "87b5fd93-c986-41ff-e456-fde7f862e1bf",
        "colab": {
          "base_uri": "https://localhost:8080/"
        }
      },
      "execution_count": 1,
      "outputs": [
        {
          "output_type": "execute_result",
          "data": {
            "text/plain": [
              "[12, 15, 18]"
            ]
          },
          "metadata": {},
          "execution_count": 1
        }
      ]
    },
    {
      "cell_type": "code",
      "source": [
        "str1 = 'abc'\n",
        "str2 = '123'\n",
        "\n",
        "str_add = map(lambda x,y: x+y, str1,str2)\n",
        "list(str_add)"
      ],
      "metadata": {
        "id": "KoqJ0hDHIY6q",
        "outputId": "996db5e7-8c2b-4592-a44f-0ae148cab03c",
        "colab": {
          "base_uri": "https://localhost:8080/"
        }
      },
      "execution_count": 5,
      "outputs": [
        {
          "output_type": "execute_result",
          "data": {
            "text/plain": [
              "['a1', 'b2', 'c3']"
            ]
          },
          "metadata": {},
          "execution_count": 5
        }
      ]
    },
    {
      "cell_type": "markdown",
      "source": [
        "###`Problem-12:`Write a Python program to create a list containing the power of said number in bases raised to the corresponding number in the index using Python map.\n",
        "`Input:`\n",
        "```\n",
        "list1 = [1,2,3,4,5,6]\n",
        "```\n",
        "`Output:`\n",
        "```\n",
        "[1,2,9,64,625,-]\n",
        "```\n"
      ],
      "metadata": {
        "id": "MgHP7mbUqO8l"
      }
    },
    {
      "cell_type": "code",
      "source": [
        "# Write code here"
      ],
      "metadata": {
        "id": "gG3Dc6N3qbvN"
      },
      "execution_count": null,
      "outputs": []
    },
    {
      "cell_type": "markdown",
      "source": [
        "###`Problem-13` Using filter() and list() functions and .lower() method filter all the vowels in a given string.\n",
        "\n"
      ],
      "metadata": {
        "id": "G26SYq6vqdLN"
      }
    },
    {
      "cell_type": "code",
      "source": [
        "# Write code here"
      ],
      "metadata": {
        "id": "zurga3DIqmEx"
      },
      "execution_count": null,
      "outputs": []
    },
    {
      "cell_type": "markdown",
      "source": [
        "`Problem-14`: Use reduce to convert a 2D list to 1D"
      ],
      "metadata": {
        "id": "uQrsunZSqoYu"
      }
    },
    {
      "cell_type": "code",
      "source": [
        "# Write code here"
      ],
      "metadata": {
        "id": "E1YUwnfgqnka"
      },
      "execution_count": null,
      "outputs": []
    },
    {
      "cell_type": "markdown",
      "source": [
        "`Problem 15`- A dictionary contains following information about 5 employees:\n",
        "- First name\n",
        "- Last name\n",
        "- Age\n",
        "- Grade(Skilled,Semi-skilled,Highly skilled)<br>\n",
        "Write a program using map/filter/reduce to a list of employees(first name + last name) who are highly skilled"
      ],
      "metadata": {
        "id": "8-DLQEawt-_t"
      }
    },
    {
      "cell_type": "code",
      "source": [
        "# Write code here\n",
        "employees = [\n",
        "    {\n",
        "        'fname':'Nitish',\n",
        "        'lname':'Singh',\n",
        "        'age' : 33,\n",
        "        'grade':'skilled'\n",
        "    },\n",
        "    {\n",
        "        'fname':'Ankit',\n",
        "        'lname':'Verma',\n",
        "        'age' : 34,\n",
        "        'grade':'semi-skilled'\n",
        "    },\n",
        "    {\n",
        "        'fname':'Neha',\n",
        "        'lname':'Singh',\n",
        "        'age' : 35,\n",
        "        'grade':'highly-skilled'\n",
        "    },\n",
        "    {\n",
        "        'fname':'Anurag',\n",
        "        'lname':'Kumar',\n",
        "        'age' : 30,\n",
        "        'grade':'skilled'\n",
        "    },\n",
        "    {\n",
        "        'fname':'Abhinav',\n",
        "        'lname':'Sharma',\n",
        "        'age' : 37,\n",
        "        'grade':'highly-skilled'\n",
        "    }\n",
        "\n",
        "]"
      ],
      "metadata": {
        "id": "OLvptttLs6OU"
      },
      "execution_count": null,
      "outputs": []
    },
    {
      "cell_type": "code",
      "source": [
        "list(map(lambda x:x['fname'] + ' ' + x['lname'],list(filter(lambda x:True if x['grade'] == 'highly-skilled' else False,employees))))"
      ],
      "metadata": {
        "id": "vLX0FAQkui3y",
        "colab": {
          "base_uri": "https://localhost:8080/"
        },
        "outputId": "e7d50543-c30e-4a20-c793-756f5a435df7"
      },
      "execution_count": null,
      "outputs": [
        {
          "output_type": "execute_result",
          "data": {
            "text/plain": [
              "['Neha Singh', 'Abhinav Sharma']"
            ]
          },
          "metadata": {},
          "execution_count": 17
        }
      ]
    },
    {
      "cell_type": "code",
      "source": [],
      "metadata": {
        "id": "ldMjGfkgAMr9"
      },
      "execution_count": null,
      "outputs": []
    }
  ]
}